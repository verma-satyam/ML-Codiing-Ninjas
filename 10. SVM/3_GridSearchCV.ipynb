{
  "nbformat": 4,
  "nbformat_minor": 0,
  "metadata": {
    "colab": {
      "name": "3. GridSearchCV.ipynb",
      "provenance": [],
      "authorship_tag": "ABX9TyMiA3IgfD4vwhyDXhaiPdoJ",
      "include_colab_link": true
    },
    "kernelspec": {
      "name": "python3",
      "display_name": "Python 3"
    },
    "language_info": {
      "name": "python"
    }
  },
  "cells": [
    {
      "cell_type": "markdown",
      "metadata": {
        "id": "view-in-github",
        "colab_type": "text"
      },
      "source": [
        "<a href=\"https://colab.research.google.com/github/verma-satyam/ML-Coding-Ninjas/blob/main/10.%20SVM/3_GridSearchCV.ipynb\" target=\"_parent\"><img src=\"https://colab.research.google.com/assets/colab-badge.svg\" alt=\"Open In Colab\"/></a>"
      ]
    },
    {
      "cell_type": "code",
      "metadata": {
        "id": "jFk5ntasW_ny"
      },
      "source": [
        "from sklearn import svm,datasets\n",
        "from sklearn.model_selection import train_test_split,GridSearchCV\n",
        "from sklearn.neighbors import KNeighborsClassifier"
      ],
      "execution_count": 1,
      "outputs": []
    },
    {
      "cell_type": "code",
      "metadata": {
        "id": "pGeblLnsXURX"
      },
      "source": [
        "iris = datasets.load_iris()\n",
        "X = iris.data\n",
        "Y = iris.target"
      ],
      "execution_count": 2,
      "outputs": []
    },
    {
      "cell_type": "code",
      "metadata": {
        "id": "LBQCl0ZgXZjz"
      },
      "source": [
        "X_train,X_test,Y_train,Y_test = train_test_split(X,Y)"
      ],
      "execution_count": 3,
      "outputs": []
    },
    {
      "cell_type": "markdown",
      "metadata": {
        "id": "L69BX4ghYZF2"
      },
      "source": [
        "find best k in KNN"
      ]
    },
    {
      "cell_type": "code",
      "metadata": {
        "colab": {
          "base_uri": "https://localhost:8080/"
        },
        "id": "zbgYMi70XeRu",
        "outputId": "102770a0-943f-4b89-d014-4ec3811dd990"
      },
      "source": [
        "clf = KNeighborsClassifier()\n",
        "grid = {'n_neighbors':[3,5,7,9,11]}\n",
        "abc = GridSearchCV(clf,grid)\n",
        "abc.fit(X_train,Y_train)"
      ],
      "execution_count": 4,
      "outputs": [
        {
          "output_type": "execute_result",
          "data": {
            "text/plain": [
              "GridSearchCV(cv=None, error_score=nan,\n",
              "             estimator=KNeighborsClassifier(algorithm='auto', leaf_size=30,\n",
              "                                            metric='minkowski',\n",
              "                                            metric_params=None, n_jobs=None,\n",
              "                                            n_neighbors=5, p=2,\n",
              "                                            weights='uniform'),\n",
              "             iid='deprecated', n_jobs=None,\n",
              "             param_grid={'n_neighbors': [3, 5, 7, 9, 11]},\n",
              "             pre_dispatch='2*n_jobs', refit=True, return_train_score=False,\n",
              "             scoring=None, verbose=0)"
            ]
          },
          "metadata": {
            "tags": []
          },
          "execution_count": 4
        }
      ]
    },
    {
      "cell_type": "code",
      "metadata": {
        "colab": {
          "base_uri": "https://localhost:8080/"
        },
        "id": "QUy1QZ-bXsjJ",
        "outputId": "242e9329-1c87-4397-ce06-99bf17b788a8"
      },
      "source": [
        "abc.best_estimator_"
      ],
      "execution_count": 5,
      "outputs": [
        {
          "output_type": "execute_result",
          "data": {
            "text/plain": [
              "KNeighborsClassifier(algorithm='auto', leaf_size=30, metric='minkowski',\n",
              "                     metric_params=None, n_jobs=None, n_neighbors=7, p=2,\n",
              "                     weights='uniform')"
            ]
          },
          "metadata": {
            "tags": []
          },
          "execution_count": 5
        }
      ]
    },
    {
      "cell_type": "code",
      "metadata": {
        "colab": {
          "base_uri": "https://localhost:8080/"
        },
        "id": "TLteGPzIXuaZ",
        "outputId": "18b9bae6-8b65-4297-9bc6-ae42ce001998"
      },
      "source": [
        "abc.cv_results_"
      ],
      "execution_count": 6,
      "outputs": [
        {
          "output_type": "execute_result",
          "data": {
            "text/plain": [
              "{'mean_fit_time': array([0.00093527, 0.00045094, 0.00043712, 0.0004437 , 0.00046306]),\n",
              " 'mean_score_time': array([0.00189328, 0.0015583 , 0.00150447, 0.00157042, 0.00162091]),\n",
              " 'mean_test_score': array([0.96403162, 0.97351779, 0.9826087 , 0.97351779, 0.97351779]),\n",
              " 'param_n_neighbors': masked_array(data=[3, 5, 7, 9, 11],\n",
              "              mask=[False, False, False, False, False],\n",
              "        fill_value='?',\n",
              "             dtype=object),\n",
              " 'params': [{'n_neighbors': 3},\n",
              "  {'n_neighbors': 5},\n",
              "  {'n_neighbors': 7},\n",
              "  {'n_neighbors': 9},\n",
              "  {'n_neighbors': 11}],\n",
              " 'rank_test_score': array([5, 2, 1, 2, 2], dtype=int32),\n",
              " 'split0_test_score': array([1.        , 0.95652174, 0.95652174, 0.95652174, 0.95652174]),\n",
              " 'split1_test_score': array([0.95652174, 0.95652174, 0.95652174, 0.95652174, 0.95652174]),\n",
              " 'split2_test_score': array([0.95454545, 1.        , 1.        , 0.95454545, 0.95454545]),\n",
              " 'split3_test_score': array([0.90909091, 0.95454545, 1.        , 1.        , 1.        ]),\n",
              " 'split4_test_score': array([1., 1., 1., 1., 1.]),\n",
              " 'std_fit_time': array([8.39064801e-04, 2.66383447e-05, 1.55865223e-05, 2.47647939e-05,\n",
              "        4.89343665e-05]),\n",
              " 'std_score_time': array([4.85583673e-04, 2.44701568e-05, 2.49670588e-05, 2.82553277e-05,\n",
              "        1.22915412e-04]),\n",
              " 'std_test_score': array([0.03391848, 0.02163468, 0.02129991, 0.02163468, 0.02163468])}"
            ]
          },
          "metadata": {
            "tags": []
          },
          "execution_count": 6
        }
      ]
    },
    {
      "cell_type": "markdown",
      "metadata": {
        "id": "jR29boHOYbuW"
      },
      "source": [
        "find best c,gamma in SVM"
      ]
    },
    {
      "cell_type": "code",
      "metadata": {
        "colab": {
          "base_uri": "https://localhost:8080/"
        },
        "id": "R67I2RKWX1N3",
        "outputId": "eb392724-c8d3-4a2f-bde2-506d99c6ef60"
      },
      "source": [
        "clf = svm.SVC()\n",
        "grid = {'C':[1e2,1e3,5e3,1e4,5e4,1e5],\n",
        "        'gamma':[1e-3,5e-4,1e-4,5e-3]}\n",
        "abc = GridSearchCV(clf,grid)\n",
        "abc.fit(X_train,Y_train)"
      ],
      "execution_count": 7,
      "outputs": [
        {
          "output_type": "execute_result",
          "data": {
            "text/plain": [
              "GridSearchCV(cv=None, error_score=nan,\n",
              "             estimator=SVC(C=1.0, break_ties=False, cache_size=200,\n",
              "                           class_weight=None, coef0=0.0,\n",
              "                           decision_function_shape='ovr', degree=3,\n",
              "                           gamma='scale', kernel='rbf', max_iter=-1,\n",
              "                           probability=False, random_state=None, shrinking=True,\n",
              "                           tol=0.001, verbose=False),\n",
              "             iid='deprecated', n_jobs=None,\n",
              "             param_grid={'C': [100.0, 1000.0, 5000.0, 10000.0, 50000.0,\n",
              "                               100000.0],\n",
              "                         'gamma': [0.001, 0.0005, 0.0001, 0.005]},\n",
              "             pre_dispatch='2*n_jobs', refit=True, return_train_score=False,\n",
              "             scoring=None, verbose=0)"
            ]
          },
          "metadata": {
            "tags": []
          },
          "execution_count": 7
        }
      ]
    },
    {
      "cell_type": "code",
      "metadata": {
        "colab": {
          "base_uri": "https://localhost:8080/"
        },
        "id": "StsYadBjYMi5",
        "outputId": "00653015-1dd7-4123-f984-41f405bfdef7"
      },
      "source": [
        "abc.best_estimator_"
      ],
      "execution_count": 8,
      "outputs": [
        {
          "output_type": "execute_result",
          "data": {
            "text/plain": [
              "SVC(C=100.0, break_ties=False, cache_size=200, class_weight=None, coef0=0.0,\n",
              "    decision_function_shape='ovr', degree=3, gamma=0.005, kernel='rbf',\n",
              "    max_iter=-1, probability=False, random_state=None, shrinking=True,\n",
              "    tol=0.001, verbose=False)"
            ]
          },
          "metadata": {
            "tags": []
          },
          "execution_count": 8
        }
      ]
    },
    {
      "cell_type": "code",
      "metadata": {
        "colab": {
          "base_uri": "https://localhost:8080/"
        },
        "id": "WzIAJCDCYOp8",
        "outputId": "b0b3473a-4531-40b1-d6d1-5ff7fd54b269"
      },
      "source": [
        "abc.cv_results_"
      ],
      "execution_count": 9,
      "outputs": [
        {
          "output_type": "execute_result",
          "data": {
            "text/plain": [
              "{'mean_fit_time': array([0.00101991, 0.00054297, 0.00057764, 0.00044408, 0.00042768,\n",
              "        0.00041971, 0.00047574, 0.00042014, 0.00047183, 0.00047965,\n",
              "        0.00042243, 0.00046577, 0.00040798, 0.00039458, 0.00042953,\n",
              "        0.00042987, 0.00041208, 0.00042233, 0.00040426, 0.00049605,\n",
              "        0.00043321, 0.00041814, 0.00041504, 0.00054941]),\n",
              " 'mean_score_time': array([0.00077844, 0.00032587, 0.0003098 , 0.00027084, 0.00027623,\n",
              "        0.00026879, 0.00032544, 0.00026965, 0.0002955 , 0.00032806,\n",
              "        0.00026636, 0.00026784, 0.00026455, 0.00025573, 0.00027399,\n",
              "        0.00025826, 0.00025563, 0.00026984, 0.00025997, 0.00026426,\n",
              "        0.0002584 , 0.00026479, 0.00025902, 0.00026708]),\n",
              " 'mean_test_score': array([0.96442688, 0.96442688, 0.96482213, 0.97351779, 0.97351779,\n",
              "        0.97351779, 0.96442688, 0.97351779, 0.97351779, 0.97351779,\n",
              "        0.97351779, 0.94664032, 0.97351779, 0.97351779, 0.97351779,\n",
              "        0.95533597, 0.95533597, 0.94664032, 0.97351779, 0.95533597,\n",
              "        0.96403162, 0.95533597, 0.97351779, 0.95533597]),\n",
              " 'param_C': masked_array(data=[100.0, 100.0, 100.0, 100.0, 1000.0, 1000.0, 1000.0,\n",
              "                    1000.0, 5000.0, 5000.0, 5000.0, 5000.0, 10000.0,\n",
              "                    10000.0, 10000.0, 10000.0, 50000.0, 50000.0, 50000.0,\n",
              "                    50000.0, 100000.0, 100000.0, 100000.0, 100000.0],\n",
              "              mask=[False, False, False, False, False, False, False, False,\n",
              "                    False, False, False, False, False, False, False, False,\n",
              "                    False, False, False, False, False, False, False, False],\n",
              "        fill_value='?',\n",
              "             dtype=object),\n",
              " 'param_gamma': masked_array(data=[0.001, 0.0005, 0.0001, 0.005, 0.001, 0.0005, 0.0001,\n",
              "                    0.005, 0.001, 0.0005, 0.0001, 0.005, 0.001, 0.0005,\n",
              "                    0.0001, 0.005, 0.001, 0.0005, 0.0001, 0.005, 0.001,\n",
              "                    0.0005, 0.0001, 0.005],\n",
              "              mask=[False, False, False, False, False, False, False, False,\n",
              "                    False, False, False, False, False, False, False, False,\n",
              "                    False, False, False, False, False, False, False, False],\n",
              "        fill_value='?',\n",
              "             dtype=object),\n",
              " 'params': [{'C': 100.0, 'gamma': 0.001},\n",
              "  {'C': 100.0, 'gamma': 0.0005},\n",
              "  {'C': 100.0, 'gamma': 0.0001},\n",
              "  {'C': 100.0, 'gamma': 0.005},\n",
              "  {'C': 1000.0, 'gamma': 0.001},\n",
              "  {'C': 1000.0, 'gamma': 0.0005},\n",
              "  {'C': 1000.0, 'gamma': 0.0001},\n",
              "  {'C': 1000.0, 'gamma': 0.005},\n",
              "  {'C': 5000.0, 'gamma': 0.001},\n",
              "  {'C': 5000.0, 'gamma': 0.0005},\n",
              "  {'C': 5000.0, 'gamma': 0.0001},\n",
              "  {'C': 5000.0, 'gamma': 0.005},\n",
              "  {'C': 10000.0, 'gamma': 0.001},\n",
              "  {'C': 10000.0, 'gamma': 0.0005},\n",
              "  {'C': 10000.0, 'gamma': 0.0001},\n",
              "  {'C': 10000.0, 'gamma': 0.005},\n",
              "  {'C': 50000.0, 'gamma': 0.001},\n",
              "  {'C': 50000.0, 'gamma': 0.0005},\n",
              "  {'C': 50000.0, 'gamma': 0.0001},\n",
              "  {'C': 50000.0, 'gamma': 0.005},\n",
              "  {'C': 100000.0, 'gamma': 0.001},\n",
              "  {'C': 100000.0, 'gamma': 0.0005},\n",
              "  {'C': 100000.0, 'gamma': 0.0001},\n",
              "  {'C': 100000.0, 'gamma': 0.005}],\n",
              " 'rank_test_score': array([14, 14, 13,  1,  1,  1, 14,  1,  1,  1,  1, 23,  1,  1,  1, 18, 18,\n",
              "        23,  1, 18, 17, 18,  1, 18], dtype=int32),\n",
              " 'split0_test_score': array([0.95652174, 0.95652174, 0.91304348, 0.95652174, 0.95652174,\n",
              "        0.95652174, 0.95652174, 0.95652174, 0.95652174, 0.95652174,\n",
              "        0.95652174, 0.95652174, 0.95652174, 0.95652174, 0.95652174,\n",
              "        0.95652174, 0.95652174, 0.95652174, 0.95652174, 0.95652174,\n",
              "        1.        , 0.95652174, 0.95652174, 0.95652174]),\n",
              " 'split1_test_score': array([0.95652174, 0.95652174, 0.95652174, 0.95652174, 0.95652174,\n",
              "        0.95652174, 0.95652174, 0.95652174, 0.95652174, 0.95652174,\n",
              "        0.95652174, 0.91304348, 0.95652174, 0.95652174, 0.95652174,\n",
              "        0.95652174, 0.95652174, 0.91304348, 0.95652174, 0.95652174,\n",
              "        0.95652174, 0.95652174, 0.95652174, 0.95652174]),\n",
              " 'split2_test_score': array([0.90909091, 0.90909091, 0.95454545, 1.        , 1.        ,\n",
              "        1.        , 0.90909091, 1.        , 1.        , 1.        ,\n",
              "        1.        , 0.95454545, 1.        , 1.        , 1.        ,\n",
              "        0.95454545, 0.95454545, 0.95454545, 1.        , 0.95454545,\n",
              "        0.95454545, 0.95454545, 1.        , 0.95454545]),\n",
              " 'split3_test_score': array([1.        , 1.        , 1.        , 0.95454545, 0.95454545,\n",
              "        0.95454545, 1.        , 0.95454545, 0.95454545, 0.95454545,\n",
              "        0.95454545, 0.90909091, 0.95454545, 0.95454545, 0.95454545,\n",
              "        0.90909091, 0.90909091, 0.90909091, 0.95454545, 0.90909091,\n",
              "        0.90909091, 0.90909091, 0.95454545, 0.90909091]),\n",
              " 'split4_test_score': array([1., 1., 1., 1., 1., 1., 1., 1., 1., 1., 1., 1., 1., 1., 1., 1., 1.,\n",
              "        1., 1., 1., 1., 1., 1., 1.]),\n",
              " 'std_fit_time': array([6.27873785e-04, 3.37055407e-05, 1.40908406e-05, 3.40885545e-05,\n",
              "        1.65918776e-05, 1.71678595e-05, 3.03598141e-05, 1.63975140e-05,\n",
              "        1.29342200e-04, 3.90323764e-05, 3.75874735e-05, 7.22202265e-05,\n",
              "        7.92812581e-06, 8.68184159e-06, 2.98755128e-05, 7.20955076e-06,\n",
              "        1.26497628e-05, 1.43095645e-05, 1.12057747e-05, 1.05553546e-04,\n",
              "        1.23784942e-05, 9.90215248e-06, 1.37171721e-05, 8.79330386e-05]),\n",
              " 'std_score_time': array([5.10392827e-04, 3.45959735e-05, 1.03096119e-05, 7.60402036e-06,\n",
              "        2.74827858e-05, 9.59805805e-06, 9.24151747e-05, 1.96732171e-05,\n",
              "        7.29409059e-05, 3.29034915e-05, 4.65105703e-06, 2.31963512e-05,\n",
              "        1.01125459e-05, 7.87806565e-06, 5.62263602e-06, 5.44806017e-06,\n",
              "        4.82619512e-06, 1.59119352e-05, 6.35214393e-06, 6.63403713e-06,\n",
              "        6.44242118e-06, 1.15258554e-05, 7.01712499e-06, 1.19774432e-05]),\n",
              " 'std_test_score': array([0.033817  , 0.033817  , 0.03265119, 0.02163468, 0.02163468,\n",
              "        0.02163468, 0.033817  , 0.02163468, 0.02163468, 0.02163468,\n",
              "        0.02163468, 0.03330494, 0.02163468, 0.02163468, 0.02163468,\n",
              "        0.02876428, 0.02876428, 0.03330494, 0.02163468, 0.02876428,\n",
              "        0.03391848, 0.02876428, 0.02163468, 0.02876428])}"
            ]
          },
          "metadata": {
            "tags": []
          },
          "execution_count": 9
        }
      ]
    }
  ]
}