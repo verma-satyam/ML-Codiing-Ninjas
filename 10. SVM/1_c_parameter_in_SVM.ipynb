{
  "nbformat": 4,
  "nbformat_minor": 0,
  "metadata": {
    "colab": {
      "name": "1. c parameter in SVM.ipynb",
      "provenance": [],
      "authorship_tag": "ABX9TyM83QwgEn0jmR5J6Bp/M1yB",
      "include_colab_link": true
    },
    "kernelspec": {
      "name": "python3",
      "display_name": "Python 3"
    },
    "language_info": {
      "name": "python"
    }
  },
  "cells": [
    {
      "cell_type": "markdown",
      "metadata": {
        "id": "view-in-github",
        "colab_type": "text"
      },
      "source": [
        "<a href=\"https://colab.research.google.com/github/verma-satyam/ML-Coding-Ninjas/blob/main/10.%20SVM/1_c_parameter_in_SVM.ipynb\" target=\"_parent\"><img src=\"https://colab.research.google.com/assets/colab-badge.svg\" alt=\"Open In Colab\"/></a>"
      ]
    },
    {
      "cell_type": "markdown",
      "metadata": {
        "id": "f0JnSk1AtLSs"
      },
      "source": [
        "## How is C affecting the decision boundary??"
      ]
    },
    {
      "cell_type": "markdown",
      "metadata": {
        "id": "xPtE5tw3tSqL"
      },
      "source": [
        "### normal data without outliers."
      ]
    },
    {
      "cell_type": "code",
      "metadata": {
        "id": "mGew-zY1srI4"
      },
      "source": [
        "import numpy as np\n",
        "from sklearn.svm import SVC\n",
        "import matplotlib.pyplot as plt"
      ],
      "execution_count": 1,
      "outputs": []
    },
    {
      "cell_type": "code",
      "metadata": {
        "id": "RnHmoeIhs4uP"
      },
      "source": [
        "X = np.array([[1,1],[2,1],[1,2],[1.5,1.5],[3,4],[2,5],[4,3],[7,2],[3,5],[2,6],[6,2],[3,4],[4,4]])\n",
        "y = [0,0,0,0,1,1,1,1,1,1,1,1,1]"
      ],
      "execution_count": 2,
      "outputs": []
    },
    {
      "cell_type": "code",
      "metadata": {
        "colab": {
          "base_uri": "https://localhost:8080/",
          "height": 265
        },
        "id": "Y204Ll4ns7GO",
        "outputId": "98d13860-f75b-4e35-afb9-8e452a7bf37e"
      },
      "source": [
        "X_x1 = X[:,0]\n",
        "X_x2 = X[:,1]\n",
        "plt.scatter(X_x1, X_x2, c = y)\n",
        "plt.show()"
      ],
      "execution_count": 3,
      "outputs": [
        {
          "output_type": "display_data",
          "data": {
            "image/png": "[encoded data removed]",
            "text/plain": [
              "<Figure size 432x288 with 1 Axes>"
            ]
          },
          "metadata": {
            "tags": [],
            "needs_background": "light"
          }
        }
      ]
    },
    {
      "cell_type": "code",
      "metadata": {
        "colab": {
          "base_uri": "https://localhost:8080/"
        },
        "id": "j7K2g_xOs8Ub",
        "outputId": "cddd6368-1eaf-435b-cc1b-ef5f16d70926"
      },
      "source": [
        "svcLinear =  SVC(kernel='linear', C=1).fit(X, y)\n",
        "svcLinear.coef_, svcLinear.intercept_"
      ],
      "execution_count": 6,
      "outputs": [
        {
          "output_type": "execute_result",
          "data": {
            "text/plain": [
              "(array([[0.49989823, 0.49989823]]), array([-2.49953185]))"
            ]
          },
          "metadata": {
            "tags": []
          },
          "execution_count": 6
        }
      ]
    },
    {
      "cell_type": "code",
      "metadata": {
        "colab": {
          "base_uri": "https://localhost:8080/",
          "height": 269
        },
        "id": "fnvjL6Sas-G9",
        "outputId": "243b27ae-8909-457f-de9e-f940158a3ba1"
      },
      "source": [
        "x1 = np.array([0, 5])\n",
        "x2 = -1 *(svcLinear.intercept_ + svcLinear.coef_[0][0] * x1)/svcLinear.coef_[0][1]\n",
        "plt.plot(x1, x2)\n",
        "plt.scatter(X_x1, X_x2, c = y)\n",
        "plt.axis([0, 8, 0, 8])\n",
        "plt.show()"
      ],
      "execution_count": 7,
      "outputs": [
        {
          "output_type": "display_data",
          "data": {
            "image/png": "[encoded data removed]",
            "text/plain": [
              "<Figure size 432x288 with 1 Axes>"
            ]
          },
          "metadata": {
            "tags": [],
            "needs_background": "light"
          }
        }
      ]
    },
    {
      "cell_type": "markdown",
      "metadata": {
        "id": "3egiCzydtCDe"
      },
      "source": [
        "In this case, value of C either large or small has no effect on decision boundary."
      ]
    },
    {
      "cell_type": "markdown",
      "metadata": {
        "id": "RbptKC0LtYO_"
      },
      "source": [
        "### data with outliers."
      ]
    },
    {
      "cell_type": "code",
      "metadata": {
        "id": "abh-BrXDs_Q1"
      },
      "source": [
        "X = np.array([[1,1],[2,1],[1,2],[1.5,1.5],[3,4],[2,5],[4,3],[7,2],[3,5],[2,6],[6,2],[3,4],[4,4]])\n",
        "y = [0,1,0,0,1,1,1,1,1,1,1,1,1]"
      ],
      "execution_count": 8,
      "outputs": []
    },
    {
      "cell_type": "code",
      "metadata": {
        "colab": {
          "base_uri": "https://localhost:8080/",
          "height": 265
        },
        "id": "OOwwpSO1tz-V",
        "outputId": "f3145286-e312-4f52-ab58-1dceb7cebef7"
      },
      "source": [
        "X_x1 = X[:,0]\n",
        "X_x2 = X[:,1]\n",
        "plt.scatter(X_x1, X_x2, c = y)\n",
        "plt.show()"
      ],
      "execution_count": 9,
      "outputs": [
        {
          "output_type": "display_data",
          "data": {
            "image/png": "[encoded data removed]",
            "text/plain": [
              "<Figure size 432x288 with 1 Axes>"
            ]
          },
          "metadata": {
            "tags": [],
            "needs_background": "light"
          }
        }
      ]
    },
    {
      "cell_type": "code",
      "metadata": {
        "colab": {
          "base_uri": "https://localhost:8080/"
        },
        "id": "gysC2vdlt1es",
        "outputId": "cf1516b8-07dd-48fb-8424-3859929795e8"
      },
      "source": [
        "svcLinear =  SVC(kernel='linear', C=1).fit(X, y)\n",
        "svcLinear.coef_, svcLinear.intercept_"
      ],
      "execution_count": 10,
      "outputs": [
        {
          "output_type": "execute_result",
          "data": {
            "text/plain": [
              "(array([[0.8, 0.4]]), array([-2.6]))"
            ]
          },
          "metadata": {
            "tags": []
          },
          "execution_count": 10
        }
      ]
    },
    {
      "cell_type": "code",
      "metadata": {
        "colab": {
          "base_uri": "https://localhost:8080/",
          "height": 269
        },
        "id": "mIjohvIWt3kL",
        "outputId": "ceed402d-8dfe-48c4-f6ec-8bda4c8d9c08"
      },
      "source": [
        "x1 = np.array([0, 5])\n",
        "x2 = -1 *(svcLinear.intercept_ + svcLinear.coef_[0][0] * x1)/svcLinear.coef_[0][1]\n",
        "plt.plot(x1, x2)\n",
        "plt.scatter(X_x1, X_x2, c = y)\n",
        "plt.axis([0, 8, 0, 8])\n",
        "plt.show()"
      ],
      "execution_count": 11,
      "outputs": [
        {
          "output_type": "display_data",
          "data": {
            "image/png": "[encoded data removed]",
            "text/plain": [
              "<Figure size 432x288 with 1 Axes>"
            ]
          },
          "metadata": {
            "tags": [],
            "needs_background": "light"
          }
        }
      ]
    },
    {
      "cell_type": "markdown",
      "metadata": {
        "id": "mGFaIwTLt6nm"
      },
      "source": [
        "if c value is small, it doesnt care about outliers and can accept some errors."
      ]
    },
    {
      "cell_type": "code",
      "metadata": {
        "colab": {
          "base_uri": "https://localhost:8080/"
        },
        "id": "5XWCcMpLt5dx",
        "outputId": "2bb77bbb-42fd-4ada-a92e-a28369f273c2"
      },
      "source": [
        "svcLinear =  SVC(kernel='linear', C=5).fit(X, y)\n",
        "svcLinear.coef_, svcLinear.intercept_"
      ],
      "execution_count": 27,
      "outputs": [
        {
          "output_type": "execute_result",
          "data": {
            "text/plain": [
              "(array([[2.50000000e+00, 6.66133815e-16]]), array([-4.]))"
            ]
          },
          "metadata": {
            "tags": []
          },
          "execution_count": 27
        }
      ]
    },
    {
      "cell_type": "code",
      "metadata": {
        "colab": {
          "base_uri": "https://localhost:8080/",
          "height": 269
        },
        "id": "vRKl5iSfuJ6y",
        "outputId": "7246dafe-713e-4815-f678-7e6143c0aaa1"
      },
      "source": [
        "x1 = np.array([0, 5])\n",
        "x2 = -1 *(svcLinear.intercept_ + svcLinear.coef_[0][0] * x1)/svcLinear.coef_[0][1]\n",
        "plt.plot(x1, x2)\n",
        "plt.scatter(X_x1, X_x2, c = y)\n",
        "plt.axis([0, 8, 0, 8])\n",
        "plt.show()"
      ],
      "execution_count": 28,
      "outputs": [
        {
          "output_type": "display_data",
          "data": {
            "image/png": "[encoded data removed]",
            "text/plain": [
              "<Figure size 432x288 with 1 Axes>"
            ]
          },
          "metadata": {
            "tags": [],
            "needs_background": "light"
          }
        }
      ]
    },
    {
      "cell_type": "markdown",
      "metadata": {
        "id": "KwiQEf8Sukh8"
      },
      "source": [
        "if c is large then i can't afford any training point error and overfit on data. making theta values to be very large."
      ]
    }
  ]
}