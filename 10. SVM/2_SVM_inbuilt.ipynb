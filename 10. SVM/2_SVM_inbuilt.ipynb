{
  "nbformat": 4,
  "nbformat_minor": 0,
  "metadata": {
    "colab": {
      "name": "2. SVM inbuilt.ipynb",
      "provenance": [],
      "authorship_tag": "ABX9TyOCtap8UasRubRtLRYWTOpO",
      "include_colab_link": true
    },
    "kernelspec": {
      "name": "python3",
      "display_name": "Python 3"
    },
    "language_info": {
      "name": "python"
    }
  },
  "cells": [
    {
      "cell_type": "markdown",
      "metadata": {
        "id": "view-in-github",
        "colab_type": "text"
      },
      "source": [
        "<a href=\"https://colab.research.google.com/github/verma-satyam/ML-Coding-Ninjas/blob/main/10.%20SVM/2_SVM_inbuilt.ipynb\" target=\"_parent\"><img src=\"https://colab.research.google.com/assets/colab-badge.svg\" alt=\"Open In Colab\"/></a>"
      ]
    },
    {
      "cell_type": "markdown",
      "metadata": {
        "id": "gJv_JPdQMAYi"
      },
      "source": [
        "## SVM"
      ]
    },
    {
      "cell_type": "code",
      "metadata": {
        "id": "Ai1vlMZhKees"
      },
      "source": [
        "from sklearn import svm, datasets\n",
        "import numpy as np\n",
        "from sklearn.model_selection import train_test_split\n",
        "import matplotlib.pyplot as plt"
      ],
      "execution_count": 1,
      "outputs": []
    },
    {
      "cell_type": "code",
      "metadata": {
        "id": "d-ViXpbLLG-5"
      },
      "source": [
        "iris = datasets.load_iris()\n",
        "X = iris.data\n",
        "Y = iris.target"
      ],
      "execution_count": 2,
      "outputs": []
    },
    {
      "cell_type": "code",
      "metadata": {
        "id": "vPqNxLzcLMgA"
      },
      "source": [
        "X_train,X_test,Y_train,Y_test = train_test_split(X,Y,random_state=0)"
      ],
      "execution_count": 3,
      "outputs": []
    },
    {
      "cell_type": "code",
      "metadata": {
        "colab": {
          "base_uri": "https://localhost:8080/"
        },
        "id": "hbGyNeoyLTdS",
        "outputId": "ed6a0370-f020-45aa-fdbd-c7ffdabba4b8"
      },
      "source": [
        "clf = svm.SVC()\n",
        "clf.fit(X_train,Y_train)"
      ],
      "execution_count": 4,
      "outputs": [
        {
          "output_type": "execute_result",
          "data": {
            "text/plain": [
              "SVC(C=1.0, break_ties=False, cache_size=200, class_weight=None, coef0=0.0,\n",
              "    decision_function_shape='ovr', degree=3, gamma='scale', kernel='rbf',\n",
              "    max_iter=-1, probability=False, random_state=None, shrinking=True,\n",
              "    tol=0.001, verbose=False)"
            ]
          },
          "metadata": {
            "tags": []
          },
          "execution_count": 4
        }
      ]
    },
    {
      "cell_type": "code",
      "metadata": {
        "colab": {
          "base_uri": "https://localhost:8080/"
        },
        "id": "HXrSz5Q8LXlX",
        "outputId": "9c971a86-a394-4fc8-e5f6-bf996eb207a9"
      },
      "source": [
        "clf.score(X_test,Y_test)"
      ],
      "execution_count": 5,
      "outputs": [
        {
          "output_type": "execute_result",
          "data": {
            "text/plain": [
              "0.9736842105263158"
            ]
          },
          "metadata": {
            "tags": []
          },
          "execution_count": 5
        }
      ]
    },
    {
      "cell_type": "markdown",
      "metadata": {
        "id": "sRbWMw91MC4K"
      },
      "source": [
        "### Decision boundary using only 2 features"
      ]
    },
    {
      "cell_type": "code",
      "metadata": {
        "id": "B32oFagxLcar"
      },
      "source": [
        "iris = datasets.load_iris()\n",
        "X = iris.data[:,0:2]\n",
        "Y = iris.target\n",
        "X_train,X_test,Y_train,Y_test = train_test_split(X,Y)"
      ],
      "execution_count": 13,
      "outputs": []
    },
    {
      "cell_type": "code",
      "metadata": {
        "colab": {
          "base_uri": "https://localhost:8080/"
        },
        "id": "pLgkbuI5MNFw",
        "outputId": "7dec1bee-3ef5-4e39-d7a7-7addce6b97cc"
      },
      "source": [
        "clf = svm.SVC()\n",
        "clf.fit(X_train,Y_train)\n",
        "clf.score(X_test,Y_test)"
      ],
      "execution_count": 14,
      "outputs": [
        {
          "output_type": "execute_result",
          "data": {
            "text/plain": [
              "0.7368421052631579"
            ]
          },
          "metadata": {
            "tags": []
          },
          "execution_count": 14
        }
      ]
    },
    {
      "cell_type": "code",
      "metadata": {
        "id": "3o3u0N0UPIF_"
      },
      "source": [
        "#for using linear kernel uncomment this\n",
        "# clf = svm.SVC(kernel='linear')\n",
        "# clf.fit(X_train,Y_train)\n",
        "# clf.score(X_test,Y_test)"
      ],
      "execution_count": null,
      "outputs": []
    },
    {
      "cell_type": "code",
      "metadata": {
        "id": "U2ai0MsvMPAz"
      },
      "source": [
        "def makegrid(x1,x2,h=0.02):\n",
        "  x1_min, x1_max = x1.min() -1, x1.max()+1\n",
        "  x2_min, x2_max = x2.min() -1, x2.max()+1\n",
        "  a = np.arange(x1_min,x1_max,h)\n",
        "  b = np.arange(x2_min,x2_max,h)\n",
        "  xx,yy = np.meshgrid(a,b)\n",
        "  return xx,yy"
      ],
      "execution_count": 15,
      "outputs": []
    },
    {
      "cell_type": "code",
      "metadata": {
        "colab": {
          "base_uri": "https://localhost:8080/"
        },
        "id": "irmPoYP5NN0Z",
        "outputId": "1f853c16-3218-4095-d27c-6995cff00d1b"
      },
      "source": [
        "x1 = np.array([1,3])\n",
        "x2 = np.array([5,6])\n",
        "makegrid(x1,x2)\n",
        "## so it created a arr of x1 from 0 to 4 and make multiple rows of it\n",
        "## and arr of x2 from 4 to 7 and make multiple columns of it"
      ],
      "execution_count": 16,
      "outputs": [
        {
          "output_type": "execute_result",
          "data": {
            "text/plain": [
              "(array([[0.  , 0.02, 0.04, ..., 3.94, 3.96, 3.98],\n",
              "        [0.  , 0.02, 0.04, ..., 3.94, 3.96, 3.98],\n",
              "        [0.  , 0.02, 0.04, ..., 3.94, 3.96, 3.98],\n",
              "        ...,\n",
              "        [0.  , 0.02, 0.04, ..., 3.94, 3.96, 3.98],\n",
              "        [0.  , 0.02, 0.04, ..., 3.94, 3.96, 3.98],\n",
              "        [0.  , 0.02, 0.04, ..., 3.94, 3.96, 3.98]]),\n",
              " array([[4.  , 4.  , 4.  , ..., 4.  , 4.  , 4.  ],\n",
              "        [4.02, 4.02, 4.02, ..., 4.02, 4.02, 4.02],\n",
              "        [4.04, 4.04, 4.04, ..., 4.04, 4.04, 4.04],\n",
              "        ...,\n",
              "        [6.94, 6.94, 6.94, ..., 6.94, 6.94, 6.94],\n",
              "        [6.96, 6.96, 6.96, ..., 6.96, 6.96, 6.96],\n",
              "        [6.98, 6.98, 6.98, ..., 6.98, 6.98, 6.98]]))"
            ]
          },
          "metadata": {
            "tags": []
          },
          "execution_count": 16
        }
      ]
    },
    {
      "cell_type": "code",
      "metadata": {
        "colab": {
          "base_uri": "https://localhost:8080/",
          "height": 265
        },
        "id": "-Wx-Mrm8NY3S",
        "outputId": "64b851cc-1221-4a9b-b2a8-6361f0cdf0d1"
      },
      "source": [
        "xx, yy = makegrid(X[:,0],X[:,1])\n",
        "predictions = clf.predict(np.c_[xx.ravel(),yy.ravel()])\n",
        "plt.scatter(xx.ravel(),yy.ravel(),c=predictions)\n",
        "plt.show();"
      ],
      "execution_count": 17,
      "outputs": [
        {
          "output_type": "display_data",
          "data": {
            "image/png": "[encoded data removed]",
            "text/plain": [
              "<Figure size 432x288 with 1 Axes>"
            ]
          },
          "metadata": {
            "tags": [],
            "needs_background": "light"
          }
        }
      ]
    },
    {
      "cell_type": "markdown",
      "metadata": {
        "id": "r58R_4lPPdJ-"
      },
      "source": [
        "non linear decision boundaries."
      ]
    }
  ]
}