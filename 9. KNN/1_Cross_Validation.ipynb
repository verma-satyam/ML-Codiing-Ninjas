{
  "nbformat": 4,
  "nbformat_minor": 0,
  "metadata": {
    "colab": {
      "name": "1. Cross Validation.ipynb",
      "provenance": [],
      "authorship_tag": "ABX9TyNP3qUF2zJ0xNRasvRn9Uq5",
      "include_colab_link": true
    },
    "kernelspec": {
      "name": "python3",
      "display_name": "Python 3"
    },
    "language_info": {
      "name": "python"
    }
  },
  "cells": [
    {
      "cell_type": "markdown",
      "metadata": {
        "id": "view-in-github",
        "colab_type": "text"
      },
      "source": [
        "<a href=\"https://colab.research.google.com/github/verma-satyam/ML-Coding-Ninjas/blob/main/9.%20KNN/1_Cross_Validation.ipynb\" target=\"_parent\"><img src=\"https://colab.research.google.com/assets/colab-badge.svg\" alt=\"Open In Colab\"/></a>"
      ]
    },
    {
      "cell_type": "code",
      "metadata": {
        "id": "OHwZDuX8qtw9"
      },
      "source": [
        "import numpy as np\n",
        "from sklearn import datasets\n",
        "from sklearn.model_selection import train_test_split,cross_val_score,KFold\n",
        "from sklearn.linear_model import LinearRegression"
      ],
      "execution_count": 1,
      "outputs": []
    },
    {
      "cell_type": "code",
      "metadata": {
        "id": "h073hVJcrEoH"
      },
      "source": [
        "iris = datasets.load_iris()\n",
        "X_train,X_test,Y_train,Y_test = train_test_split(iris.data,iris.target,test_size=0.2,random_state=0)"
      ],
      "execution_count": 2,
      "outputs": []
    },
    {
      "cell_type": "code",
      "metadata": {
        "colab": {
          "base_uri": "https://localhost:8080/"
        },
        "id": "yO9tGxd0rSAM",
        "outputId": "88a73929-9f90-4e18-d63a-8b9729596f98"
      },
      "source": [
        "clf = LinearRegression()\n",
        "# 5 fold cross validation\n",
        "cross_val_score(clf,X_train,Y_train)"
      ],
      "execution_count": 3,
      "outputs": [
        {
          "output_type": "execute_result",
          "data": {
            "text/plain": [
              "array([0.88027523, 0.87653834, 0.97263486, 0.96003738, 0.90267142])"
            ]
          },
          "metadata": {
            "tags": []
          },
          "execution_count": 3
        }
      ]
    },
    {
      "cell_type": "code",
      "metadata": {
        "colab": {
          "base_uri": "https://localhost:8080/"
        },
        "id": "yutyy15wrbDo",
        "outputId": "f8afb210-7a69-4eb6-8c3b-8d08c1511f3e"
      },
      "source": [
        "# cross validation on whole dataset\n",
        "cross_val_score(clf,iris.data,iris.target)"
      ],
      "execution_count": 4,
      "outputs": [
        {
          "output_type": "execute_result",
          "data": {
            "text/plain": [
              "array([0.        , 0.85124923, 0.        , 0.76155439, 0.        ])"
            ]
          },
          "metadata": {
            "tags": []
          },
          "execution_count": 4
        }
      ]
    },
    {
      "cell_type": "code",
      "metadata": {
        "colab": {
          "base_uri": "https://localhost:8080/"
        },
        "id": "QnCnvrwKrgEp",
        "outputId": "9c1c1bdc-c247-4f87-986b-582aec01c090"
      },
      "source": [
        "# 3 fold cross validation\n",
        "# KFold(number of splits,random Splits??, random state)\n",
        "cross_val_score(clf,X_train,Y_train,cv=KFold(3,True,0))"
      ],
      "execution_count": 5,
      "outputs": [
        {
          "output_type": "execute_result",
          "data": {
            "text/plain": [
              "array([0.91405112, 0.94558204, 0.91367333])"
            ]
          },
          "metadata": {
            "tags": []
          },
          "execution_count": 5
        }
      ]
    },
    {
      "cell_type": "code",
      "metadata": {
        "id": "jwnE6ZQ1rvJR"
      },
      "source": [
        ""
      ],
      "execution_count": null,
      "outputs": []
    }
  ]
}