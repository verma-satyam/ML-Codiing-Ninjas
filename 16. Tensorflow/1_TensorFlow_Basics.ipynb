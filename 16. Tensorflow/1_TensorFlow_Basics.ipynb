{
  "nbformat": 4,
  "nbformat_minor": 0,
  "metadata": {
    "colab": {
      "name": "1. TensorFlow Basics.ipynb",
      "provenance": [],
      "authorship_tag": "ABX9TyOVH98K2/10ljPAX9Ro3KN0",
      "include_colab_link": true
    },
    "kernelspec": {
      "name": "python3",
      "display_name": "Python 3"
    },
    "language_info": {
      "name": "python"
    }
  },
  "cells": [
    {
      "cell_type": "markdown",
      "metadata": {
        "id": "view-in-github",
        "colab_type": "text"
      },
      "source": [
        "<a href=\"https://colab.research.google.com/github/verma-satyam/ML-Coding-Ninjas/blob/main/16.%20Tensorflow/1_TensorFlow_Basics.ipynb\" target=\"_parent\"><img src=\"https://colab.research.google.com/assets/colab-badge.svg\" alt=\"Open In Colab\"/></a>"
      ]
    },
    {
      "cell_type": "code",
      "metadata": {
        "id": "_Jn0Y4To36k9"
      },
      "source": [
        "import tensorflow as tf"
      ],
      "execution_count": 1,
      "outputs": []
    },
    {
      "cell_type": "markdown",
      "metadata": {
        "id": "twaj7PIU4lAZ"
      },
      "source": [
        "### Constants"
      ]
    },
    {
      "cell_type": "code",
      "metadata": {
        "colab": {
          "base_uri": "https://localhost:8080/"
        },
        "id": "fK46ZdH04gU3",
        "outputId": "884fc38d-5004-4019-8f89-d8be5fde4818"
      },
      "source": [
        "a = tf.constant(2)\n",
        "b = tf.constant(3)\n",
        "c = a+b\n",
        "a,b,c"
      ],
      "execution_count": 3,
      "outputs": [
        {
          "output_type": "execute_result",
          "data": {
            "text/plain": [
              "(<tf.Tensor: shape=(), dtype=int32, numpy=2>,\n",
              " <tf.Tensor: shape=(), dtype=int32, numpy=3>,\n",
              " <tf.Tensor: shape=(), dtype=int32, numpy=5>)"
            ]
          },
          "metadata": {
            "tags": []
          },
          "execution_count": 3
        }
      ]
    },
    {
      "cell_type": "code",
      "metadata": {
        "colab": {
          "base_uri": "https://localhost:8080/"
        },
        "id": "xeAtA2v140pI",
        "outputId": "e2b62588-5e72-4b95-d319-be608bf8672c"
      },
      "source": [
        "a1 = tf.constant([[3,3]])\n",
        "a2 = tf.constant([[3],[3]])\n",
        "res = tf.matmul(a1,a2)\n",
        "a1,a2,res"
      ],
      "execution_count": 4,
      "outputs": [
        {
          "output_type": "execute_result",
          "data": {
            "text/plain": [
              "(<tf.Tensor: shape=(1, 2), dtype=int32, numpy=array([[3, 3]], dtype=int32)>,\n",
              " <tf.Tensor: shape=(2, 1), dtype=int32, numpy=\n",
              " array([[3],\n",
              "        [3]], dtype=int32)>,\n",
              " <tf.Tensor: shape=(1, 1), dtype=int32, numpy=array([[18]], dtype=int32)>)"
            ]
          },
          "metadata": {
            "tags": []
          },
          "execution_count": 4
        }
      ]
    },
    {
      "cell_type": "code",
      "metadata": {
        "colab": {
          "base_uri": "https://localhost:8080/"
        },
        "id": "mmNFd0625E_h",
        "outputId": "abd474c5-1e99-42d5-fb49-83064a3f6482"
      },
      "source": [
        "# sess = tf.Session()\n",
        "# sess.run(c),sess.run(res)\n",
        "# session is no longer used in tf now. simple python comands\n",
        "tf.print(c,res)"
      ],
      "execution_count": 7,
      "outputs": [
        {
          "output_type": "stream",
          "text": [
            "5 [[18]]\n"
          ],
          "name": "stdout"
        }
      ]
    },
    {
      "cell_type": "markdown",
      "metadata": {
        "id": "H7DKbaTD7njq"
      },
      "source": [
        "### Session"
      ]
    },
    {
      "cell_type": "code",
      "metadata": {
        "id": "eIwdNZQ-8O39"
      },
      "source": [
        "with tf.Session() as sess:\n",
        "  print(c.eval())\n",
        "  print(res.eval())\n",
        "\n",
        "# this doesn't work anymore.\n",
        "# else use down block."
      ],
      "execution_count": null,
      "outputs": []
    },
    {
      "cell_type": "code",
      "metadata": {
        "colab": {
          "base_uri": "https://localhost:8080/"
        },
        "id": "_E_WUqYO5Phx",
        "outputId": "0e8fae35-8586-4a3f-fad3-61f181103c5e"
      },
      "source": [
        "c.numpy(),res.numpy()"
      ],
      "execution_count": 11,
      "outputs": [
        {
          "output_type": "execute_result",
          "data": {
            "text/plain": [
              "(5, array([[18]], dtype=int32))"
            ]
          },
          "metadata": {
            "tags": []
          },
          "execution_count": 11
        }
      ]
    },
    {
      "cell_type": "markdown",
      "metadata": {
        "id": "IPYY_oNP8fo3"
      },
      "source": [
        "### Variables"
      ]
    },
    {
      "cell_type": "code",
      "metadata": {
        "colab": {
          "base_uri": "https://localhost:8080/"
        },
        "id": "hs84OboM8fPo",
        "outputId": "1f3ec58a-3499-4c3c-f6d4-237a44c4fff4"
      },
      "source": [
        "var1 = tf.Variable(100)\n",
        "var2 = tf.Variable(3)\n",
        "sum = tf.add(var1,var2)\n",
        "sum,var1,var2"
      ],
      "execution_count": 12,
      "outputs": [
        {
          "output_type": "execute_result",
          "data": {
            "text/plain": [
              "(<tf.Tensor: shape=(), dtype=int32, numpy=103>,\n",
              " <tf.Variable 'Variable:0' shape=() dtype=int32, numpy=100>,\n",
              " <tf.Variable 'Variable:0' shape=() dtype=int32, numpy=3>)"
            ]
          },
          "metadata": {
            "tags": []
          },
          "execution_count": 12
        }
      ]
    },
    {
      "cell_type": "code",
      "metadata": {
        "colab": {
          "base_uri": "https://localhost:8080/"
        },
        "id": "z4TldNws_VwL",
        "outputId": "292eb8e7-91f4-4986-e99f-ce1bb2fcccb4"
      },
      "source": [
        "tf.print(sum)"
      ],
      "execution_count": 13,
      "outputs": [
        {
          "output_type": "stream",
          "text": [
            "103\n"
          ],
          "name": "stdout"
        }
      ]
    },
    {
      "cell_type": "code",
      "metadata": {
        "colab": {
          "base_uri": "https://localhost:8080/"
        },
        "id": "8bKNmPwn_eWc",
        "outputId": "6e4684ce-8fd5-4387-b4de-c9c1389be929"
      },
      "source": [
        "var1.assign(1232)\n",
        "var1"
      ],
      "execution_count": 14,
      "outputs": [
        {
          "output_type": "execute_result",
          "data": {
            "text/plain": [
              "<tf.Variable 'Variable:0' shape=() dtype=int32, numpy=1232>"
            ]
          },
          "metadata": {
            "tags": []
          },
          "execution_count": 14
        }
      ]
    },
    {
      "cell_type": "markdown",
      "metadata": {
        "id": "LkT4RC4UDBJQ"
      },
      "source": [
        "### Placeholder"
      ]
    },
    {
      "cell_type": "code",
      "metadata": {
        "colab": {
          "base_uri": "https://localhost:8080/",
          "height": 163
        },
        "id": "Kt5J0e3g_5i0",
        "outputId": "c789e55d-8839-4288-a692-d8570d8a8b39"
      },
      "source": [
        "# x = tf.placeholder(tf.int32)\n",
        "# y = x * tf.constant(12)\n",
        "# sess.run(y,feed_dict={x:[[1,2,3],[4,5,6]]})\n",
        "# placeholders are no longer available"
      ],
      "execution_count": 16,
      "outputs": [
        {
          "output_type": "error",
          "ename": "AttributeError",
          "evalue": "ignored",
          "traceback": [
            "\u001b[0;31m---------------------------------------------------------------------------\u001b[0m",
            "\u001b[0;31mAttributeError\u001b[0m                            Traceback (most recent call last)",
            "\u001b[0;32m<ipython-input-16-6fe5e63ba325>\u001b[0m in \u001b[0;36m<module>\u001b[0;34m()\u001b[0m\n\u001b[0;32m----> 1\u001b[0;31m \u001b[0mx\u001b[0m \u001b[0;34m=\u001b[0m \u001b[0mtf\u001b[0m\u001b[0;34m.\u001b[0m\u001b[0mplaceholder\u001b[0m\u001b[0;34m(\u001b[0m\u001b[0mtf\u001b[0m\u001b[0;34m.\u001b[0m\u001b[0mint32\u001b[0m\u001b[0;34m)\u001b[0m\u001b[0;34m\u001b[0m\u001b[0;34m\u001b[0m\u001b[0m\n\u001b[0m",
            "\u001b[0;31mAttributeError\u001b[0m: module 'tensorflow' has no attribute 'placeholder'"
          ]
        }
      ]
    },
    {
      "cell_type": "code",
      "metadata": {
        "colab": {
          "base_uri": "https://localhost:8080/"
        },
        "id": "m6Nh0UwcDGve",
        "outputId": "73abf3a8-4d6e-477f-f891-f7f890731a5c"
      },
      "source": [
        "@tf.function\n",
        "def y(x):\n",
        "  return x * tf.constant(12)\n",
        "\n",
        "out_a = y([[1,2,3],[4,5,6]])\n",
        "print(out_a)\n",
        "## instead of placeholders we'll make functions"
      ],
      "execution_count": 19,
      "outputs": [
        {
          "output_type": "stream",
          "text": [
            "tf.Tensor(\n",
            "[[12 24 36]\n",
            " [48 60 72]], shape=(2, 3), dtype=int32)\n"
          ],
          "name": "stdout"
        }
      ]
    },
    {
      "cell_type": "code",
      "metadata": {
        "id": "210PHaSXFY8Q"
      },
      "source": [
        ""
      ],
      "execution_count": null,
      "outputs": []
    }
  ]
}