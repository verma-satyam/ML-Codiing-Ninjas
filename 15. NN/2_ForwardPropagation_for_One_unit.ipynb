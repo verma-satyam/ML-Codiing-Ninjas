{
  "nbformat": 4,
  "nbformat_minor": 0,
  "metadata": {
    "colab": {
      "name": "2. ForwardPropagation for One unit.ipynb",
      "provenance": [],
      "authorship_tag": "ABX9TyMgSItjmrvK3bhDkuWzNeAa",
      "include_colab_link": true
    },
    "kernelspec": {
      "name": "python3",
      "display_name": "Python 3"
    },
    "language_info": {
      "name": "python"
    }
  },
  "cells": [
    {
      "cell_type": "markdown",
      "metadata": {
        "id": "view-in-github",
        "colab_type": "text"
      },
      "source": [
        "<a href=\"https://colab.research.google.com/github/verma-satyam/ML-Coding-Ninjas/blob/main/15.%20NN/2_ForwardPropagation_for_One_unit.ipynb\" target=\"_parent\"><img src=\"https://colab.research.google.com/assets/colab-badge.svg\" alt=\"Open In Colab\"/></a>"
      ]
    },
    {
      "cell_type": "code",
      "metadata": {
        "id": "piCHr8UndhZ6"
      },
      "source": [
        "import numpy as np"
      ],
      "execution_count": 1,
      "outputs": []
    },
    {
      "cell_type": "code",
      "metadata": {
        "colab": {
          "base_uri": "https://localhost:8080/"
        },
        "id": "v6ZEp_Ledn6i",
        "outputId": "3d388572-86d8-4018-de4e-4b796ef45590"
      },
      "source": [
        "X = np.array([[0,0],[0,1],[1,0],[1,1]])\n",
        "Y = np.array([[0,0,0,1]]).T\n",
        "X.shape,Y.shape"
      ],
      "execution_count": 2,
      "outputs": [
        {
          "output_type": "execute_result",
          "data": {
            "text/plain": [
              "((4, 2), (4, 1))"
            ]
          },
          "metadata": {
            "tags": []
          },
          "execution_count": 2
        }
      ]
    },
    {
      "cell_type": "code",
      "metadata": {
        "id": "fVA_n-8rdzmP"
      },
      "source": [
        "def sigmoid(z):\n",
        "  return 1/(1 + np.exp(-z))"
      ],
      "execution_count": 3,
      "outputs": []
    },
    {
      "cell_type": "code",
      "metadata": {
        "colab": {
          "base_uri": "https://localhost:8080/"
        },
        "id": "gSDJpykwd8S-",
        "outputId": "a8795069-b558-4dec-f970-ffc372b44198"
      },
      "source": [
        "weights = 2 * np.random.random((2,1)) - 1 \n",
        "bias = 2 * np.random.random(1) - 1 \n",
        "weights,bias #bcz no of params are 3. 2:w, 1:c"
      ],
      "execution_count": 4,
      "outputs": [
        {
          "output_type": "execute_result",
          "data": {
            "text/plain": [
              "(array([[-0.26868923],\n",
              "        [ 0.08263826]]), array([0.62118474]))"
            ]
          },
          "metadata": {
            "tags": []
          },
          "execution_count": 4
        }
      ]
    },
    {
      "cell_type": "code",
      "metadata": {
        "colab": {
          "base_uri": "https://localhost:8080/"
        },
        "id": "eFgBEDy2eGzA",
        "outputId": "94c34b6c-6265-4f33-9c15-6f281e04fed7"
      },
      "source": [
        "inputLayer = X\n",
        "outputLayer = sigmoid(np.dot(inputLayer,weights) + bias) # there is no hidden layer bcz it is just for one unit in NN. \n",
        "# we did not do any learning too. Just outputed with the inital random weights.\n",
        "outputLayer"
      ],
      "execution_count": 6,
      "outputs": [
        {
          "output_type": "execute_result",
          "data": {
            "text/plain": [
              "array([[0.65048795],\n",
              "       [0.66903483],\n",
              "       [0.5872226 ],\n",
              "       [0.6070989 ]])"
            ]
          },
          "metadata": {
            "tags": []
          },
          "execution_count": 6
        }
      ]
    }
  ]
}