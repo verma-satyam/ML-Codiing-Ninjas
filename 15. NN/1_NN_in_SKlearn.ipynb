{
  "nbformat": 4,
  "nbformat_minor": 0,
  "metadata": {
    "colab": {
      "name": "1. NN in SKlearn.ipynb",
      "provenance": [],
      "authorship_tag": "ABX9TyMnsCUXWinZ1k6am/Z/uBx8",
      "include_colab_link": true
    },
    "kernelspec": {
      "name": "python3",
      "display_name": "Python 3"
    },
    "language_info": {
      "name": "python"
    }
  },
  "cells": [
    {
      "cell_type": "markdown",
      "metadata": {
        "id": "view-in-github",
        "colab_type": "text"
      },
      "source": [
        "<a href=\"https://colab.research.google.com/github/verma-satyam/ML-Coding-Ninjas/blob/main/15.%20NN/1_NN_in_SKlearn.ipynb\" target=\"_parent\"><img src=\"https://colab.research.google.com/assets/colab-badge.svg\" alt=\"Open In Colab\"/></a>"
      ]
    },
    {
      "cell_type": "code",
      "metadata": {
        "id": "VFqGZxNKD5WK"
      },
      "source": [
        "from sklearn import datasets\n",
        "from sklearn.model_selection import train_test_split"
      ],
      "execution_count": 2,
      "outputs": []
    },
    {
      "cell_type": "code",
      "metadata": {
        "id": "znHoLrnFEDeg"
      },
      "source": [
        "iris = datasets.load_iris()\n",
        "X = iris.data\n",
        "Y = iris.target"
      ],
      "execution_count": 3,
      "outputs": []
    },
    {
      "cell_type": "code",
      "metadata": {
        "id": "XMQHMBkhEQQX"
      },
      "source": [
        "X_train,X_test,Y_train,Y_test = train_test_split(X,Y,random_state=0)"
      ],
      "execution_count": 5,
      "outputs": []
    },
    {
      "cell_type": "code",
      "metadata": {
        "id": "Df_T-XlbEVjg"
      },
      "source": [
        "from sklearn.neural_network import MLPClassifier ## Multi Layer Peceptron"
      ],
      "execution_count": 6,
      "outputs": []
    },
    {
      "cell_type": "code",
      "metadata": {
        "colab": {
          "base_uri": "https://localhost:8080/"
        },
        "id": "Ept6_E02Em46",
        "outputId": "6c40dba6-71ed-4f4e-f836-b6f560030e5c"
      },
      "source": [
        "mlp = MLPClassifier(hidden_layer_sizes=(20,),max_iter=3000)\n",
        "mlp.fit(X_train,Y_train)"
      ],
      "execution_count": 13,
      "outputs": [
        {
          "output_type": "execute_result",
          "data": {
            "text/plain": [
              "MLPClassifier(activation='relu', alpha=0.0001, batch_size='auto', beta_1=0.9,\n",
              "              beta_2=0.999, early_stopping=False, epsilon=1e-08,\n",
              "              hidden_layer_sizes=(20,), learning_rate='constant',\n",
              "              learning_rate_init=0.001, max_fun=15000, max_iter=3000,\n",
              "              momentum=0.9, n_iter_no_change=10, nesterovs_momentum=True,\n",
              "              power_t=0.5, random_state=None, shuffle=True, solver='adam',\n",
              "              tol=0.0001, validation_fraction=0.1, verbose=False,\n",
              "              warm_start=False)"
            ]
          },
          "metadata": {
            "tags": []
          },
          "execution_count": 13
        }
      ]
    },
    {
      "cell_type": "code",
      "metadata": {
        "colab": {
          "base_uri": "https://localhost:8080/"
        },
        "id": "ZwX--40zEyxu",
        "outputId": "98988ce8-6582-4093-a4ed-b673a348b1bd"
      },
      "source": [
        "mlp.score(X_test,Y_test)"
      ],
      "execution_count": 14,
      "outputs": [
        {
          "output_type": "execute_result",
          "data": {
            "text/plain": [
              "0.9736842105263158"
            ]
          },
          "metadata": {
            "tags": []
          },
          "execution_count": 14
        }
      ]
    },
    {
      "cell_type": "code",
      "metadata": {
        "colab": {
          "base_uri": "https://localhost:8080/"
        },
        "id": "LCBtgweHF-TV",
        "outputId": "a034e78b-54ae-4335-b6cf-9664db81e98b"
      },
      "source": [
        "mlp.coefs_ # weights of each layer. Not biases."
      ],
      "execution_count": 15,
      "outputs": [
        {
          "output_type": "execute_result",
          "data": {
            "text/plain": [
              "[array([[ 4.73777597e-01, -1.10646248e-01,  1.95904394e-01,\n",
              "          6.47079344e-02,  1.52103720e-01,  1.66132337e-01,\n",
              "          2.55086314e-01,  4.60818498e-01, -5.64052315e-01,\n",
              "          2.22527396e-01,  1.87970786e-01,  3.58077925e-01,\n",
              "          2.09690132e-01, -1.57409972e-02,  4.80475209e-01,\n",
              "         -9.92943952e-02,  5.50544056e-01, -2.76004638e-02,\n",
              "          4.92405305e-01, -3.64941323e-01],\n",
              "        [ 1.36044463e-01, -8.00292506e-03, -1.60084968e-02,\n",
              "          1.80726920e-01,  1.57208403e-01, -2.87841935e-01,\n",
              "         -3.13317863e-01, -1.82749434e-01, -1.82803786e-01,\n",
              "          6.59134435e-01,  6.25032347e-01, -1.67318838e-01,\n",
              "         -4.85235797e-01, -1.38689377e-03, -4.34479658e-01,\n",
              "         -1.59856017e-02,  7.15265863e-01, -1.88266247e-19,\n",
              "          3.87532741e-01, -5.78979833e-01],\n",
              "        [ 7.54966845e-02,  4.40231459e-02,  1.44554206e-01,\n",
              "          6.25127222e-01, -1.09368807e-01,  6.03985615e-01,\n",
              "          2.29805041e-01,  4.12118333e-01,  8.89155234e-01,\n",
              "         -7.43155898e-01, -3.37415631e-01, -2.07167172e-02,\n",
              "         -1.17730173e-01, -3.31877926e-07, -4.90140027e-02,\n",
              "         -2.64911042e-02, -8.49302667e-01,  1.78761474e-02,\n",
              "         -4.42651317e-01,  7.63712886e-01],\n",
              "        [ 1.20775962e-02, -3.40090226e-02,  5.92042001e-02,\n",
              "         -7.99001169e-02,  1.78916528e-01,  1.60893814e-01,\n",
              "         -1.36089735e-01,  3.49243724e-01,  7.71934265e-01,\n",
              "         -7.25556280e-01, -7.33233208e-01, -9.68161067e-02,\n",
              "         -4.44374537e-02, -5.47780268e-20,  2.65223308e-01,\n",
              "          1.26294605e-02, -8.29015685e-01, -2.53763786e-05,\n",
              "         -7.98492953e-01,  9.56627544e-01]]),\n",
              " array([[-4.22281270e-01, -3.22504721e-01, -2.35323900e-01],\n",
              "        [-1.66484553e-02, -1.71722749e-02,  2.92424021e-02],\n",
              "        [ 6.92327093e-02,  1.38384202e-01, -3.53326050e-01],\n",
              "        [-5.83366425e-01, -2.69372185e-01,  7.39898773e-02],\n",
              "        [ 3.95449878e-02,  1.07279581e-01, -1.29066868e-01],\n",
              "        [-1.69311659e-01,  2.94867852e-01,  5.35958286e-01],\n",
              "        [-6.69507666e-01, -1.87155992e-01, -7.44524460e-02],\n",
              "        [-3.11837907e-01, -1.60373682e-02, -1.87754198e-01],\n",
              "        [ 1.09816309e-01, -9.63246095e-01,  1.07988737e+00],\n",
              "        [ 7.65166395e-01, -9.26498892e-01, -5.77039489e-01],\n",
              "        [ 5.04750910e-01, -2.90635204e-01, -5.04930970e-01],\n",
              "        [ 3.58709852e-01, -4.29678848e-02,  4.28135076e-02],\n",
              "        [ 3.10142526e-01, -2.57825274e-01,  1.83444806e-01],\n",
              "        [ 4.65877681e-03,  8.18450731e-08,  2.59811337e-17],\n",
              "        [-3.51722107e-02,  6.25850438e-01, -1.10591147e-01],\n",
              "        [-1.61597646e-02, -1.33032483e-03,  7.63242922e-06],\n",
              "        [ 8.56769695e-01,  7.70971301e-01, -8.18805994e-01],\n",
              "        [ 2.15039943e-03,  1.63402978e-04,  8.85424746e-04],\n",
              "        [ 3.05972563e-01, -1.23686090e-01, -8.22300867e-01],\n",
              "        [-7.19914153e-01, -1.07438641e+00,  8.87095731e-01]])]"
            ]
          },
          "metadata": {
            "tags": []
          },
          "execution_count": 15
        }
      ]
    },
    {
      "cell_type": "code",
      "metadata": {
        "colab": {
          "base_uri": "https://localhost:8080/"
        },
        "id": "OgrdQBANGBDO",
        "outputId": "19c7ee73-5fb0-4b3c-b53c-1c4524b6fae4"
      },
      "source": [
        "mlp.coefs_[0].shape, mlp.coefs_[1].shape"
      ],
      "execution_count": 16,
      "outputs": [
        {
          "output_type": "execute_result",
          "data": {
            "text/plain": [
              "((4, 20), (20, 3))"
            ]
          },
          "metadata": {
            "tags": []
          },
          "execution_count": 16
        }
      ]
    },
    {
      "cell_type": "code",
      "metadata": {
        "colab": {
          "base_uri": "https://localhost:8080/"
        },
        "id": "7hierMrHG4HH",
        "outputId": "9c542d9e-fbb0-4c4a-a704-4bb292b390a0"
      },
      "source": [
        "mlp.intercepts_[0].shape, mlp.intercepts_[1].shape # biases value"
      ],
      "execution_count": 17,
      "outputs": [
        {
          "output_type": "execute_result",
          "data": {
            "text/plain": [
              "((20,), (3,))"
            ]
          },
          "metadata": {
            "tags": []
          },
          "execution_count": 17
        }
      ]
    }
  ]
}