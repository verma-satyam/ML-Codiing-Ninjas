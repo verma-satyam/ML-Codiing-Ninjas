{
  "nbformat": 4,
  "nbformat_minor": 0,
  "metadata": {
    "colab": {
      "name": "3. KMeans Class Scratch.ipynb",
      "provenance": [],
      "authorship_tag": "ABX9TyPm2zyxXj4tvfjecQoLYn9M",
      "include_colab_link": true
    },
    "kernelspec": {
      "name": "python3",
      "display_name": "Python 3"
    },
    "language_info": {
      "name": "python"
    }
  },
  "cells": [
    {
      "cell_type": "markdown",
      "metadata": {
        "id": "view-in-github",
        "colab_type": "text"
      },
      "source": [
        "<a href=\"https://colab.research.google.com/github/verma-satyam/ML-Coding-Ninjas/blob/main/14.%20KMeans/3_KMeans_Class_Scratch.ipynb\" target=\"_parent\"><img src=\"https://colab.research.google.com/assets/colab-badge.svg\" alt=\"Open In Colab\"/></a>"
      ]
    },
    {
      "cell_type": "code",
      "metadata": {
        "id": "H3WSQIVMuO8r"
      },
      "source": [
        "import numpy as np\n",
        "import matplotlib.pyplot as plt"
      ],
      "execution_count": 7,
      "outputs": []
    },
    {
      "cell_type": "code",
      "metadata": {
        "colab": {
          "base_uri": "https://localhost:8080/",
          "height": 265
        },
        "id": "lAS9J23GuXga",
        "outputId": "fb2d7f0e-530f-40db-f9ca-b54536a01a7e"
      },
      "source": [
        "X = np.array([[1,2],[1.5,1.8],[5,8],[8,8],[1,0.6],[9,11]])\n",
        "plt.scatter(X[:,0],X[:,1])\n",
        "plt.show();"
      ],
      "execution_count": 8,
      "outputs": [
        {
          "output_type": "display_data",
          "data": {
            "image/png": "[encoded data removed]",
            "text/plain": [
              "<Figure size 432x288 with 1 Axes>"
            ]
          },
          "metadata": {
            "tags": [],
            "needs_background": "light"
          }
        }
      ]
    },
    {
      "cell_type": "code",
      "metadata": {
        "id": "DCXVQCdPnz9i"
      },
      "source": [
        "class K_Means:\n",
        "  def __init__(self, k = 2, max_iter = 100):\n",
        "    print(\"Constructor\")\n",
        "    self.k = k\n",
        "    self.max_iter = max_iter\n",
        "\n",
        "  def fit(self,data):\n",
        "    self.means = []\n",
        "    # randomly initialize the means, pick firt k data points and assign them as means\n",
        "    for i in range(self.k):\n",
        "      self.means.append(data[i])\n",
        "    for i in range(self.max_iter):\n",
        "      # assign the datapoints to the cluster that they belong to\n",
        "      ## creating empty clusters\n",
        "      clusters = []\n",
        "      for j in range(self.k):\n",
        "        clusters.append([])\n",
        "      for point in data:\n",
        "        ## find distance to all mean values and find min dist. \n",
        "        dis = [((point - m)**2).sum() for m in self.means]\n",
        "        minDis = min(dis)\n",
        "        ## Find the mean for which dist is mini. --> mean lth.\n",
        "        l = dis.index(minDis)\n",
        "        ## add this point to cluster l.\n",
        "        clusters[l].append(point)\n",
        "\n",
        "      # stop early\n",
        "      change = False\n",
        "      # calc the new mean values\n",
        "      for j in range(self.k):\n",
        "        new_mean = np.average(clusters[j],axis=0)\n",
        "        if not np.array_equal(self.means[j],new_mean):\n",
        "          change = True\n",
        "        self.means[j] = new_mean\n",
        "      if not change:\n",
        "        break\n",
        "\n",
        "  def predict(self,test):\n",
        "    pred = []\n",
        "    for point in test:\n",
        "      ## find distance to all mean values and find min dist. \n",
        "      dis = [((point - m)**2).sum() for m in self.means]\n",
        "      minDis = min(dis)\n",
        "      ## Find the mean for which dist is mini. --> mean lth.\n",
        "      l = dis.index(minDis)\n",
        "      ## add this point to cluster l.\n",
        "      pred.append(l)\n",
        "    return pred"
      ],
      "execution_count": 24,
      "outputs": []
    },
    {
      "cell_type": "code",
      "metadata": {
        "colab": {
          "base_uri": "https://localhost:8080/"
        },
        "id": "WXPU08qMoUM9",
        "outputId": "3aa7a10b-844a-4c10-e2ef-c661220ec0a0"
      },
      "source": [
        "kms = K_Means()"
      ],
      "execution_count": 25,
      "outputs": [
        {
          "output_type": "stream",
          "text": [
            "Constructor\n"
          ],
          "name": "stdout"
        }
      ]
    },
    {
      "cell_type": "code",
      "metadata": {
        "id": "5u1iAuXd0qYD"
      },
      "source": [
        "kms.fit(X)\n",
        "cluster = np.array(kms.means) # cluster_centers_"
      ],
      "execution_count": 26,
      "outputs": []
    },
    {
      "cell_type": "code",
      "metadata": {
        "colab": {
          "base_uri": "https://localhost:8080/",
          "height": 265
        },
        "id": "oYA1BvOt0xGg",
        "outputId": "314b0224-0898-4794-b88c-eb53b73487c2"
      },
      "source": [
        "plt.scatter(X[:,0],X[:,1])\n",
        "plt.scatter(cluster[:,0],cluster[:,1])\n",
        "plt.show();"
      ],
      "execution_count": 27,
      "outputs": [
        {
          "output_type": "display_data",
          "data": {
            "image/png": "[encoded data removed]",
            "text/plain": [
              "<Figure size 432x288 with 1 Axes>"
            ]
          },
          "metadata": {
            "tags": [],
            "needs_background": "light"
          }
        }
      ]
    },
    {
      "cell_type": "code",
      "metadata": {
        "colab": {
          "base_uri": "https://localhost:8080/"
        },
        "id": "MRLDp6Ha2O1j",
        "outputId": "906ecc6d-5dbb-45c7-ea0b-21063b08a984"
      },
      "source": [
        "kms.predict(X)"
      ],
      "execution_count": 28,
      "outputs": [
        {
          "output_type": "execute_result",
          "data": {
            "text/plain": [
              "[0, 0, 1, 1, 0, 1]"
            ]
          },
          "metadata": {
            "tags": []
          },
          "execution_count": 28
        }
      ]
    },
    {
      "cell_type": "code",
      "metadata": {
        "id": "PiswT2IUprb2"
      },
      "source": [
        ""
      ],
      "execution_count": null,
      "outputs": []
    }
  ]
}