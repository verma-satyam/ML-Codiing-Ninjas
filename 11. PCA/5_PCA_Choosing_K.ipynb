{
  "nbformat": 4,
  "nbformat_minor": 0,
  "metadata": {
    "colab": {
      "name": "5. PCA Choosing K.ipynb",
      "provenance": [],
      "authorship_tag": "ABX9TyMSokpupfITw8M9sG1rD610",
      "include_colab_link": true
    },
    "kernelspec": {
      "name": "python3",
      "display_name": "Python 3"
    },
    "language_info": {
      "name": "python"
    }
  },
  "cells": [
    {
      "cell_type": "markdown",
      "metadata": {
        "id": "view-in-github",
        "colab_type": "text"
      },
      "source": [
        "<a href=\"https://colab.research.google.com/github/verma-satyam/ML-Coding-Ninjas/blob/main/11.%20PCA/5_PCA_Choosing_K.ipynb\" target=\"_parent\"><img src=\"https://colab.research.google.com/assets/colab-badge.svg\" alt=\"Open In Colab\"/></a>"
      ]
    },
    {
      "cell_type": "code",
      "metadata": {
        "id": "6rYhZiqlzy4z"
      },
      "source": [
        "from sklearn import decomposition, linear_model, datasets\n",
        "import numpy as np\n",
        "import time\n",
        "from sklearn.preprocessing import StandardScaler\n",
        "from sklearn.model_selection import train_test_split"
      ],
      "execution_count": 1,
      "outputs": []
    },
    {
      "cell_type": "code",
      "metadata": {
        "id": "Wl4p-7660ZOA"
      },
      "source": [
        "breast_cancer = datasets.load_breast_cancer()"
      ],
      "execution_count": 2,
      "outputs": []
    },
    {
      "cell_type": "code",
      "metadata": {
        "id": "R1S7ES770dMf"
      },
      "source": [
        "X = breast_cancer.data\n",
        "Y = breast_cancer.target"
      ],
      "execution_count": 3,
      "outputs": []
    },
    {
      "cell_type": "code",
      "metadata": {
        "colab": {
          "base_uri": "https://localhost:8080/"
        },
        "id": "n5L-bpws0gzi",
        "outputId": "50ea15fa-f148-4631-b794-cbd84e8a4cb6"
      },
      "source": [
        "X.shape"
      ],
      "execution_count": 4,
      "outputs": [
        {
          "output_type": "execute_result",
          "data": {
            "text/plain": [
              "(569, 30)"
            ]
          },
          "metadata": {
            "tags": []
          },
          "execution_count": 4
        }
      ]
    },
    {
      "cell_type": "code",
      "metadata": {
        "id": "FyjfYNZ50iVJ"
      },
      "source": [
        "sc = StandardScaler()\n",
        "X_std = sc.fit_transform(X)"
      ],
      "execution_count": 5,
      "outputs": []
    },
    {
      "cell_type": "code",
      "metadata": {
        "id": "qA5LoGU10oJu"
      },
      "source": [
        "X_train,X_test,Y_train,Y_test = train_test_split(X_std,Y,random_state = 0)"
      ],
      "execution_count": 6,
      "outputs": []
    },
    {
      "cell_type": "markdown",
      "metadata": {
        "id": "w2EZ67ZnIKxu"
      },
      "source": [
        "Choosing how many features to keep after applying PCA"
      ]
    },
    {
      "cell_type": "code",
      "metadata": {
        "colab": {
          "base_uri": "https://localhost:8080/"
        },
        "id": "GgV8LVrOIQrW",
        "outputId": "a57c31e4-de5e-4d61-ddb9-6a8d3caab9a3"
      },
      "source": [
        "pca = decomposition.PCA()\n",
        "pca.fit_transform(X_train)\n",
        "pca.explained_variance_"
      ],
      "execution_count": 8,
      "outputs": [
        {
          "output_type": "execute_result",
          "data": {
            "text/plain": [
              "array([1.30274684e+01, 5.81556555e+00, 2.85848795e+00, 1.91901713e+00,\n",
              "       1.70021491e+00, 1.20663908e+00, 6.53337152e-01, 4.26738474e-01,\n",
              "       4.26450541e-01, 3.45589858e-01, 3.08054910e-01, 2.56054468e-01,\n",
              "       2.28152003e-01, 1.43262745e-01, 9.26283031e-02, 7.80260477e-02,\n",
              "       6.13812037e-02, 5.26182531e-02, 4.50933578e-02, 3.08275366e-02,\n",
              "       3.03277956e-02, 2.51390631e-02, 2.12226717e-02, 1.77427715e-02,\n",
              "       1.63886382e-02, 7.83681541e-03, 6.61084728e-03, 1.45257891e-03,\n",
              "       7.98794510e-04, 1.11908784e-04])"
            ]
          },
          "metadata": {
            "tags": []
          },
          "execution_count": 8
        }
      ]
    },
    {
      "cell_type": "code",
      "metadata": {
        "colab": {
          "base_uri": "https://localhost:8080/"
        },
        "id": "9klVagcEIgDu",
        "outputId": "cea1407e-fae1-4671-824f-8204b9af75b2"
      },
      "source": [
        "total = sum(pca.explained_variance_)\n",
        "k = 0\n",
        "current_var = 0\n",
        "while current_var/total < 0.95:\n",
        "  current_var += pca.explained_variance_[k]\n",
        "  k+=1\n",
        "k"
      ],
      "execution_count": 9,
      "outputs": [
        {
          "output_type": "execute_result",
          "data": {
            "text/plain": [
              "10"
            ]
          },
          "metadata": {
            "tags": []
          },
          "execution_count": 9
        }
      ]
    },
    {
      "cell_type": "markdown",
      "metadata": {
        "id": "onNiLu7TIzUq"
      },
      "source": [
        "doing PCA with k components and training model with k features."
      ]
    },
    {
      "cell_type": "code",
      "metadata": {
        "id": "i0NB6aSn0vRQ"
      },
      "source": [
        "pca = decomposition.PCA(n_components=k)\n",
        "X_train_pca = pca.fit_transform(X_train)\n",
        "X_test_pca = pca.transform(X_test)"
      ],
      "execution_count": 10,
      "outputs": []
    },
    {
      "cell_type": "code",
      "metadata": {
        "colab": {
          "base_uri": "https://localhost:8080/"
        },
        "id": "AZcZ75BH9hcD",
        "outputId": "8eb5aea1-702f-4d1c-e1c3-4c27c40677d2"
      },
      "source": [
        "lr = linear_model.LogisticRegression()\n",
        "start = time.time()\n",
        "lr.fit(X_train_pca,Y_train)\n",
        "end = time.time()\n",
        "print(end-start)\n",
        "print(lr.score(X_test_pca,Y_test))"
      ],
      "execution_count": 11,
      "outputs": [
        {
          "output_type": "stream",
          "text": [
            "0.00812983512878418\n",
            "0.958041958041958\n"
          ],
          "name": "stdout"
        }
      ]
    },
    {
      "cell_type": "code",
      "metadata": {
        "id": "WaqjmY_lIyQd"
      },
      "source": [
        ""
      ],
      "execution_count": null,
      "outputs": []
    }
  ]
}