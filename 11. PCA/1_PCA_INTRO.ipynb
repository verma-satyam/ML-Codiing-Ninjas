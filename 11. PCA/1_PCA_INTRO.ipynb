{
  "nbformat": 4,
  "nbformat_minor": 0,
  "metadata": {
    "colab": {
      "name": "1. PCA INTRO.ipynb",
      "provenance": [],
      "authorship_tag": "ABX9TyPiM78ppgKqtXcJtVPwljWA",
      "include_colab_link": true
    },
    "kernelspec": {
      "name": "python3",
      "display_name": "Python 3"
    },
    "language_info": {
      "name": "python"
    }
  },
  "cells": [
    {
      "cell_type": "markdown",
      "metadata": {
        "id": "view-in-github",
        "colab_type": "text"
      },
      "source": [
        "<a href=\"https://colab.research.google.com/github/verma-satyam/ML-Coding-Ninjas/blob/main/11.%20PCA/1_PCA_INTRO.ipynb\" target=\"_parent\"><img src=\"https://colab.research.google.com/assets/colab-badge.svg\" alt=\"Open In Colab\"/></a>"
      ]
    },
    {
      "cell_type": "markdown",
      "metadata": {
        "id": "CkGM5OIxqgYQ"
      },
      "source": [
        "## PCA Intro"
      ]
    },
    {
      "cell_type": "code",
      "metadata": {
        "id": "kmrv30JMp74W"
      },
      "source": [
        "import numpy as np\n",
        "import matplotlib.pyplot as plt\n",
        "from sklearn.decomposition import PCA"
      ],
      "execution_count": 1,
      "outputs": []
    },
    {
      "cell_type": "code",
      "metadata": {
        "id": "IlfEwt7WqAor"
      },
      "source": [
        "x1 = np.array([1,2,3,4,5,6])\n",
        "x2 = np.array([7.5, 11, 16, 18, 20, 26])"
      ],
      "execution_count": 2,
      "outputs": []
    },
    {
      "cell_type": "code",
      "metadata": {
        "colab": {
          "base_uri": "https://localhost:8080/",
          "height": 265
        },
        "id": "9fQPrFdsqB_w",
        "outputId": "90d9309a-801a-45a7-bc20-3963e5c9b286"
      },
      "source": [
        "plt.plot(x1, x2,c='r')\n",
        "plt.scatter(x1, x2)\n",
        "plt.show()"
      ],
      "execution_count": 10,
      "outputs": [
        {
          "output_type": "display_data",
          "data": {
            "image/png": "[encoded data removed]",
            "text/plain": [
              "<Figure size 432x288 with 1 Axes>"
            ]
          },
          "metadata": {
            "tags": [],
            "needs_background": "light"
          }
        }
      ]
    },
    {
      "cell_type": "code",
      "metadata": {
        "colab": {
          "base_uri": "https://localhost:8080/"
        },
        "id": "R1MFdWmxqDH8",
        "outputId": "2d25a85d-1132-4a9f-fc70-8d052de09ef8"
      },
      "source": [
        "X = np.c_[x1, x2]\n",
        "X"
      ],
      "execution_count": 5,
      "outputs": [
        {
          "output_type": "execute_result",
          "data": {
            "text/plain": [
              "array([[ 1. ,  7.5],\n",
              "       [ 2. , 11. ],\n",
              "       [ 3. , 16. ],\n",
              "       [ 4. , 18. ],\n",
              "       [ 5. , 20. ],\n",
              "       [ 6. , 26. ]])"
            ]
          },
          "metadata": {
            "tags": []
          },
          "execution_count": 5
        }
      ]
    },
    {
      "cell_type": "markdown",
      "metadata": {
        "id": "aQxF6SMfqmx7"
      },
      "source": [
        "### Converting Data into few features which describes our data best"
      ]
    },
    {
      "cell_type": "code",
      "metadata": {
        "colab": {
          "base_uri": "https://localhost:8080/"
        },
        "id": "sCvyHm35qFV8",
        "outputId": "65fcdef0-1586-4074-ae00-37232daa3305"
      },
      "source": [
        "pca = PCA()\n",
        "X_reduced = pca.fit_transform(X)\n",
        "X_reduced"
      ],
      "execution_count": 11,
      "outputs": [
        {
          "output_type": "execute_result",
          "data": {
            "text/plain": [
              "array([[-9.26049952e+00,  9.65263430e-03],\n",
              "       [-5.62047228e+00,  2.38560598e-02],\n",
              "       [-5.36562171e-01, -3.68391297e-01],\n",
              "       [ 1.65958219e+00,  5.22629108e-02],\n",
              "       [ 3.85572654e+00,  4.72917119e-01],\n",
              "       [ 9.90222524e+00, -1.90297426e-01]])"
            ]
          },
          "metadata": {
            "tags": []
          },
          "execution_count": 11
        }
      ]
    },
    {
      "cell_type": "code",
      "metadata": {
        "colab": {
          "base_uri": "https://localhost:8080/",
          "height": 265
        },
        "id": "NMu-jtnDqN8Q",
        "outputId": "8e290383-10ab-4564-d0f0-b295a5250b01"
      },
      "source": [
        "plt.plot(X_reduced[:, 0], X_reduced[:, 1])\n",
        "plt.scatter(X_reduced[:, 0], X_reduced[:, 1])\n",
        "plt.show()"
      ],
      "execution_count": 18,
      "outputs": [
        {
          "output_type": "display_data",
          "data": {
            "image/png": "[encoded data removed]",
            "text/plain": [
              "<Figure size 432x288 with 1 Axes>"
            ]
          },
          "metadata": {
            "tags": [],
            "needs_background": "light"
          }
        }
      ]
    },
    {
      "cell_type": "code",
      "metadata": {
        "colab": {
          "base_uri": "https://localhost:8080/"
        },
        "id": "L1tBCXTJqPGl",
        "outputId": "0263a4cd-48a5-4ce7-aa06-d55b86f29eef"
      },
      "source": [
        "X_approx = pca.inverse_transform(X_reduced)\n",
        "X_approx"
      ],
      "execution_count": 19,
      "outputs": [
        {
          "output_type": "execute_result",
          "data": {
            "text/plain": [
              "array([[ 1. ,  7.5],\n",
              "       [ 2. , 11. ],\n",
              "       [ 3. , 16. ],\n",
              "       [ 4. , 18. ],\n",
              "       [ 5. , 20. ],\n",
              "       [ 6. , 26. ]])"
            ]
          },
          "metadata": {
            "tags": []
          },
          "execution_count": 19
        }
      ]
    },
    {
      "cell_type": "code",
      "metadata": {
        "colab": {
          "base_uri": "https://localhost:8080/",
          "height": 265
        },
        "id": "SwjlRefvrp6U",
        "outputId": "23b6f13c-1ea8-47d5-e89d-205904e9c224"
      },
      "source": [
        "plt.plot(X_approx[:, 0], X_approx[:, 1])\n",
        "plt.scatter(X_approx[:, 0], X_approx[:, 1])\n",
        "plt.show()"
      ],
      "execution_count": 20,
      "outputs": [
        {
          "output_type": "display_data",
          "data": {
            "image/png": "[encoded data removed]",
            "text/plain": [
              "<Figure size 432x288 with 1 Axes>"
            ]
          },
          "metadata": {
            "tags": [],
            "needs_background": "light"
          }
        }
      ]
    },
    {
      "cell_type": "markdown",
      "metadata": {
        "id": "Ju-vZBNyq99c"
      },
      "source": [
        "we have convered and inversed the data and can see no data is lost."
      ]
    },
    {
      "cell_type": "markdown",
      "metadata": {
        "id": "lIrcNvFnrvx_"
      },
      "source": [
        "### Converting data into new 1d feature which describes our data best"
      ]
    },
    {
      "cell_type": "code",
      "metadata": {
        "colab": {
          "base_uri": "https://localhost:8080/"
        },
        "id": "BNQxOwccr1tF",
        "outputId": "a533c84d-3559-44e1-e499-c36a777d96a1"
      },
      "source": [
        "pca = PCA(n_components = 1)\n",
        "X_reduced = pca.fit_transform(X)\n",
        "X_reduced"
      ],
      "execution_count": 21,
      "outputs": [
        {
          "output_type": "execute_result",
          "data": {
            "text/plain": [
              "array([[-9.26049952],\n",
              "       [-5.62047228],\n",
              "       [-0.53656217],\n",
              "       [ 1.65958219],\n",
              "       [ 3.85572654],\n",
              "       [ 9.90222524]])"
            ]
          },
          "metadata": {
            "tags": []
          },
          "execution_count": 21
        }
      ]
    },
    {
      "cell_type": "code",
      "metadata": {
        "colab": {
          "base_uri": "https://localhost:8080/",
          "height": 265
        },
        "id": "KtkkTuwjr5PJ",
        "outputId": "74621b38-e3d7-4fd6-c324-fad13ec6c300"
      },
      "source": [
        "plt.plot(X_reduced[:, 0] )\n",
        "plt.show()"
      ],
      "execution_count": 23,
      "outputs": [
        {
          "output_type": "display_data",
          "data": {
            "image/png": "[encoded data removed]",
            "text/plain": [
              "<Figure size 432x288 with 1 Axes>"
            ]
          },
          "metadata": {
            "tags": [],
            "needs_background": "light"
          }
        }
      ]
    },
    {
      "cell_type": "code",
      "metadata": {
        "colab": {
          "base_uri": "https://localhost:8080/"
        },
        "id": "iZuYqE9Ur_pY",
        "outputId": "476f839d-63e1-40f3-f704-2646262e1616"
      },
      "source": [
        "X_approx = pca.inverse_transform(X_reduced)\n",
        "X_approx"
      ],
      "execution_count": 24,
      "outputs": [
        {
          "output_type": "execute_result",
          "data": {
            "text/plain": [
              "array([[ 0.99070848,  7.50261555],\n",
              "       [ 1.97703643, 11.00646421],\n",
              "       [ 3.35460926, 15.90017805],\n",
              "       [ 3.94969232, 18.01416153],\n",
              "       [ 4.54477538, 20.12814502],\n",
              "       [ 6.18317813, 25.94843564]])"
            ]
          },
          "metadata": {
            "tags": []
          },
          "execution_count": 24
        }
      ]
    },
    {
      "cell_type": "code",
      "metadata": {
        "colab": {
          "base_uri": "https://localhost:8080/",
          "height": 265
        },
        "id": "4UyW45zpsKNw",
        "outputId": "6217067c-8e70-4b08-90e0-d482bb45efa8"
      },
      "source": [
        "plt.plot(X_approx[:, 0], X_approx[:, 1])\n",
        "plt.scatter(X_approx[:, 0], X_approx[:, 1])\n",
        "plt.show()"
      ],
      "execution_count": 25,
      "outputs": [
        {
          "output_type": "display_data",
          "data": {
            "image/png": "[encoded data removed]",
            "text/plain": [
              "<Figure size 432x288 with 1 Axes>"
            ]
          },
          "metadata": {
            "tags": [],
            "needs_background": "light"
          }
        }
      ]
    },
    {
      "cell_type": "markdown",
      "metadata": {
        "id": "lWKMaVkvsNgz"
      },
      "source": [
        "We can see that only on converting back (inversion) we have lost the data otherwise we have not lost enough data."
      ]
    }
  ]
}