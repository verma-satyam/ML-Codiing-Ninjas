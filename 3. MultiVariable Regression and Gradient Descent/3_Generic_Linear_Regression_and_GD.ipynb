{
  "nbformat": 4,
  "nbformat_minor": 0,
  "metadata": {
    "colab": {
      "name": "3. Generic_Linear_Regression_and_GD.ipynb",
      "provenance": [],
      "authorship_tag": "ABX9TyPJVFAV2xhvonssBYdxiWdw",
      "include_colab_link": true
    },
    "kernelspec": {
      "name": "python3",
      "display_name": "Python 3"
    },
    "language_info": {
      "name": "python"
    }
  },
  "cells": [
    {
      "cell_type": "markdown",
      "metadata": {
        "id": "view-in-github",
        "colab_type": "text"
      },
      "source": [
        "<a href=\"https://colab.research.google.com/github/verma-satyam/ML-Coding-Ninjas/blob/main/3.%20MultiVariable%20Regression%20and%20Gradient%20Descent/3_Generic_Linear_Regression_and_GD.ipynb\" target=\"_parent\"><img src=\"https://colab.research.google.com/assets/colab-badge.svg\" alt=\"Open In Colab\"/></a>"
      ]
    },
    {
      "cell_type": "markdown",
      "metadata": {
        "id": "Q1a-yFHh34Mv"
      },
      "source": [
        "## Preprocessing"
      ]
    },
    {
      "cell_type": "code",
      "metadata": {
        "id": "tjWAaU-V13Wq"
      },
      "source": [
        "from sklearn import datasets"
      ],
      "execution_count": 37,
      "outputs": []
    },
    {
      "cell_type": "code",
      "metadata": {
        "colab": {
          "base_uri": "https://localhost:8080/"
        },
        "id": "g79NOlQV2QEa",
        "outputId": "050885a4-3019-4541-bcf3-ecfd11e73520"
      },
      "source": [
        "boston = datasets.load_boston()\n",
        "print(boston.DESCR)"
      ],
      "execution_count": 38,
      "outputs": [
        {
          "output_type": "stream",
          "text": [
            ".. _boston_dataset:\n",
            "\n",
            "Boston house prices dataset\n",
            "---------------------------\n",
            "\n",
            "**Data Set Characteristics:**  \n",
            "\n",
            "    :Number of Instances: 506 \n",
            "\n",
            "    :Number of Attributes: 13 numeric/categorical predictive. Median Value (attribute 14) is usually the target.\n",
            "\n",
            "    :Attribute Information (in order):\n",
            "        - CRIM     per capita crime rate by town\n",
            "        - ZN       proportion of residential land zoned for lots over 25,000 sq.ft.\n",
            "        - INDUS    proportion of non-retail business acres per town\n",
            "        - CHAS     Charles River dummy variable (= 1 if tract bounds river; 0 otherwise)\n",
            "        - NOX      nitric oxides concentration (parts per 10 million)\n",
            "        - RM       average number of rooms per dwelling\n",
            "        - AGE      proportion of owner-occupied units built prior to 1940\n",
            "        - DIS      weighted distances to five Boston employment centres\n",
            "        - RAD      index of accessibility to radial highways\n",
            "        - TAX      full-value property-tax rate per $10,000\n",
            "        - PTRATIO  pupil-teacher ratio by town\n",
            "        - B        1000(Bk - 0.63)^2 where Bk is the proportion of blacks by town\n",
            "        - LSTAT    % lower status of the population\n",
            "        - MEDV     Median value of owner-occupied homes in $1000's\n",
            "\n",
            "    :Missing Attribute Values: None\n",
            "\n",
            "    :Creator: Harrison, D. and Rubinfeld, D.L.\n",
            "\n",
            "This is a copy of UCI ML housing dataset.\n",
            "https://archive.ics.uci.edu/ml/machine-learning-databases/housing/\n",
            "\n",
            "\n",
            "This dataset was taken from the StatLib library which is maintained at Carnegie Mellon University.\n",
            "\n",
            "The Boston house-price data of Harrison, D. and Rubinfeld, D.L. 'Hedonic\n",
            "prices and the demand for clean air', J. Environ. Economics & Management,\n",
            "vol.5, 81-102, 1978.   Used in Belsley, Kuh & Welsch, 'Regression diagnostics\n",
            "...', Wiley, 1980.   N.B. Various transformations are used in the table on\n",
            "pages 244-261 of the latter.\n",
            "\n",
            "The Boston house-price data has been used in many machine learning papers that address regression\n",
            "problems.   \n",
            "     \n",
            ".. topic:: References\n",
            "\n",
            "   - Belsley, Kuh & Welsch, 'Regression diagnostics: Identifying Influential Data and Sources of Collinearity', Wiley, 1980. 244-261.\n",
            "   - Quinlan,R. (1993). Combining Instance-Based and Model-Based Learning. In Proceedings on the Tenth International Conference of Machine Learning, 236-243, University of Massachusetts, Amherst. Morgan Kaufmann.\n",
            "\n"
          ],
          "name": "stdout"
        }
      ]
    },
    {
      "cell_type": "code",
      "metadata": {
        "id": "swtBG8GN2SOC"
      },
      "source": [
        "X = boston.data\n",
        "Y = boston.target"
      ],
      "execution_count": 39,
      "outputs": []
    },
    {
      "cell_type": "code",
      "metadata": {
        "id": "XHQly6Ce2VEK"
      },
      "source": [
        "import pandas as pd\n",
        "import numpy as np"
      ],
      "execution_count": 40,
      "outputs": []
    },
    {
      "cell_type": "code",
      "metadata": {
        "id": "75MeYu8l2yDb"
      },
      "source": [
        "# Normalize - zero mean and unit variance (Z-score)\n",
        "u = np.mean(X,axis=0)\n",
        "std = np.std(X,axis=0)"
      ],
      "execution_count": 41,
      "outputs": []
    },
    {
      "cell_type": "code",
      "metadata": {
        "colab": {
          "base_uri": "https://localhost:8080/"
        },
        "id": "j0KjaUAU3TJZ",
        "outputId": "67f0607c-50e2-4263-fbe3-2a1eb079cbe2"
      },
      "source": [
        "X = (X-u)/std\n",
        "X"
      ],
      "execution_count": 42,
      "outputs": [
        {
          "output_type": "execute_result",
          "data": {
            "text/plain": [
              "array([[-0.41978194,  0.28482986, -1.2879095 , ..., -1.45900038,\n",
              "         0.44105193, -1.0755623 ],\n",
              "       [-0.41733926, -0.48772236, -0.59338101, ..., -0.30309415,\n",
              "         0.44105193, -0.49243937],\n",
              "       [-0.41734159, -0.48772236, -0.59338101, ..., -0.30309415,\n",
              "         0.39642699, -1.2087274 ],\n",
              "       ...,\n",
              "       [-0.41344658, -0.48772236,  0.11573841, ...,  1.17646583,\n",
              "         0.44105193, -0.98304761],\n",
              "       [-0.40776407, -0.48772236,  0.11573841, ...,  1.17646583,\n",
              "         0.4032249 , -0.86530163],\n",
              "       [-0.41500016, -0.48772236,  0.11573841, ...,  1.17646583,\n",
              "         0.44105193, -0.66905833]])"
            ]
          },
          "metadata": {
            "tags": []
          },
          "execution_count": 42
        }
      ]
    },
    {
      "cell_type": "code",
      "metadata": {
        "colab": {
          "base_uri": "https://localhost:8080/"
        },
        "id": "fPakxuH7B8nr",
        "outputId": "4271d23a-577a-4938-a836-f7d5dba49736"
      },
      "source": [
        "ones = np.ones((X.shape[0],1))\n",
        "X = np.hstack((X,ones))\n",
        "X"
      ],
      "execution_count": 43,
      "outputs": [
        {
          "output_type": "execute_result",
          "data": {
            "text/plain": [
              "array([[-0.41978194,  0.28482986, -1.2879095 , ...,  0.44105193,\n",
              "        -1.0755623 ,  1.        ],\n",
              "       [-0.41733926, -0.48772236, -0.59338101, ...,  0.44105193,\n",
              "        -0.49243937,  1.        ],\n",
              "       [-0.41734159, -0.48772236, -0.59338101, ...,  0.39642699,\n",
              "        -1.2087274 ,  1.        ],\n",
              "       ...,\n",
              "       [-0.41344658, -0.48772236,  0.11573841, ...,  0.44105193,\n",
              "        -0.98304761,  1.        ],\n",
              "       [-0.40776407, -0.48772236,  0.11573841, ...,  0.4032249 ,\n",
              "        -0.86530163,  1.        ],\n",
              "       [-0.41500016, -0.48772236,  0.11573841, ...,  0.44105193,\n",
              "        -0.66905833,  1.        ]])"
            ]
          },
          "metadata": {
            "tags": []
          },
          "execution_count": 43
        }
      ]
    },
    {
      "cell_type": "code",
      "metadata": {
        "colab": {
          "base_uri": "https://localhost:8080/",
          "height": 282
        },
        "id": "XIDmc-dw3Xds",
        "outputId": "5047111c-4e01-4a0f-cb61-4b1ce3c10aca"
      },
      "source": [
        "import matplotlib.pyplot as plt\n",
        "plt.scatter(X[:,5],Y)"
      ],
      "execution_count": 44,
      "outputs": [
        {
          "output_type": "execute_result",
          "data": {
            "text/plain": [
              "<matplotlib.collections.PathCollection at 0x7f7ecc535c10>"
            ]
          },
          "metadata": {
            "tags": []
          },
          "execution_count": 44
        },
        {
          "output_type": "display_data",
          "data": {
            "image/png": "[encoded data removed]",
            "text/plain": [
              "<Figure size 432x288 with 1 Axes>"
            ]
          },
          "metadata": {
            "tags": [],
            "needs_background": "light"
          }
        }
      ]
    },
    {
      "cell_type": "code",
      "metadata": {
        "id": "wAg-vJwIFB8k"
      },
      "source": [
        "from sklearn import model_selection\n",
        "X_train,X_test,Y_train,Y_test = model_selection.train_test_split(X,Y,test_size=0.3)"
      ],
      "execution_count": 55,
      "outputs": []
    },
    {
      "cell_type": "markdown",
      "metadata": {
        "id": "-7JNhbIW3_Ja"
      },
      "source": [
        "## Linear Regression on Mutliple Features"
      ]
    },
    {
      "cell_type": "code",
      "metadata": {
        "id": "ENTK-qaB4kkz"
      },
      "source": [
        "# X - Matrix(m*n)\n",
        "# x - single example, single row with n features\n",
        "# Hypothesis - prediction of one row\n",
        "# predict - prediction of whole dataset\n",
        "\n",
        "def hypothesis(x,m):\n",
        "  y_ = 0.0\n",
        "  N = x.shape[0]\n",
        "  for i in range(N):\n",
        "    y_ += m[i]*x[i]\n",
        "  return y_\n",
        "\n",
        "def error(X,Y,m):\n",
        "  e = 0.0\n",
        "  M = X.shape[0]\n",
        "  for j in range(M):\n",
        "    y_ = hypothesis(X[j],m)\n",
        "    e += (Y[j]-y_)**2\n",
        "  return e/M\n",
        "\n",
        "def gradient(X,Y,m):\n",
        "  M,N = X.shape\n",
        "  grad = np.zeros((N,))\n",
        "  for j in range(N):\n",
        "    for i in range(M):\n",
        "      y_ = hypothesis(X[i],m)\n",
        "      grad[j] += (y_ - Y[i])*X[i][j]\n",
        "  \n",
        "  return grad/M\n",
        "\n",
        "def gradient_descent(X,Y,lr = 0.1,max_iter = 300):\n",
        "  M,N = X.shape\n",
        "  m = np.zeros((N,))\n",
        "  error_list = []\n",
        "\n",
        "  for i in range(max_iter):\n",
        "    e = error(X,Y,m)\n",
        "    print(i, \" Cost: \", e)\n",
        "    error_list.append(e)\n",
        "\n",
        "    grad = gradient(X,Y,m)\n",
        "    for j in range(N):\n",
        "      m[j] = m[j] - lr*grad[j]\n",
        "\n",
        "  return m,error_list"
      ],
      "execution_count": 54,
      "outputs": []
    },
    {
      "cell_type": "code",
      "metadata": {
        "id": "_sFnXoz2FtKL"
      },
      "source": [
        "def predict(X_test,m):\n",
        "  Y_ = []\n",
        "  M = X_test.shape[0]\n",
        "  for j in range(M):\n",
        "    pred = hypothesis(X_test[j],m)\n",
        "    Y_.append(pred)\n",
        "  return np.array(Y_)\n",
        "\n",
        "def score(Y_truth, Y_pred):\n",
        "  u = ((Y_truth - Y_pred)**2).sum()\n",
        "  v = ((Y_truth - Y_truth.mean())**2).sum()\n",
        "  return 1 - u/v"
      ],
      "execution_count": 61,
      "outputs": []
    },
    {
      "cell_type": "code",
      "metadata": {
        "colab": {
          "base_uri": "https://localhost:8080/"
        },
        "id": "4SuNKawD_hv0",
        "outputId": "b3dd7540-dcc9-4926-99a4-ac17e8956238"
      },
      "source": [
        "import time\n",
        "start = time.time()\n",
        "m,error_list = gradient_descent(X_train,Y_train)\n",
        "end = time.time()\n",
        "print(f\"Time take is {end-start}\")"
      ],
      "execution_count": 57,
      "outputs": [
        {
          "output_type": "stream",
          "text": [
            "0  Cost:  586.7866666666669\n",
            "1  Cost:  463.83221982229725\n",
            "2  Cost:  376.49482115374377\n",
            "3  Cost:  308.10712818185544\n",
            "4  Cost:  253.37391009539556\n",
            "5  Cost:  209.34039314922495\n",
            "6  Cost:  173.85133623735612\n",
            "7  Cost:  145.21809126497456\n",
            "8  Cost:  122.09571994921421\n",
            "9  Cost:  103.40825453214828\n",
            "10  Cost:  88.29322886161613\n",
            "11  Cost:  76.0583751174799\n",
            "12  Cost:  66.14739583531072\n",
            "13  Cost:  58.112795430139364\n",
            "14  Cost:  51.59426316047446\n",
            "15  Cost:  46.30143996886008\n",
            "16  Cost:  42.000156571462874\n",
            "17  Cost:  38.501426417586146\n",
            "18  Cost:  35.65262949099815\n",
            "19  Cost:  33.3304417035714\n",
            "20  Cost:  31.435157542316762\n",
            "21  Cost:  29.886126524420114\n",
            "22  Cost:  28.618081364061137\n",
            "23  Cost:  27.578180993125503\n",
            "24  Cost:  26.723627350931878\n",
            "25  Cost:  26.019743211282925\n",
            "26  Cost:  25.438420835495123\n",
            "27  Cost:  24.95686916285893\n",
            "28  Cost:  24.55660153980431\n",
            "29  Cost:  24.22261740138492\n",
            "30  Cost:  23.94274044694635\n",
            "31  Cost:  23.7070831633894\n",
            "32  Cost:  23.5076134133165\n",
            "33  Cost:  23.337803513662006\n",
            "34  Cost:  23.192346014868374\n",
            "35  Cost:  23.066923435467274\n",
            "36  Cost:  22.958021658750656\n",
            "37  Cost:  22.862778674102213\n",
            "38  Cost:  22.77886193902606\n",
            "39  Cost:  22.70436892379728\n",
            "40  Cost:  22.637746438941807\n",
            "41  Cost:  22.57772518455336\n",
            "42  Cost:  22.523266638417585\n",
            "43  Cost:  22.47351994812077\n",
            "44  Cost:  22.427786935775725\n",
            "45  Cost:  22.385493682849056\n",
            "46  Cost:  22.346167453053592\n",
            "47  Cost:  22.30941794647802\n",
            "48  Cost:  22.274922068628122\n",
            "49  Cost:  22.24241155238801\n",
            "50  Cost:  22.211662895971255\n",
            "51  Cost:  22.182489181293302\n",
            "52  Cost:  22.154733419366398\n",
            "53  Cost:  22.128263135944223\n",
            "54  Cost:  22.10296596467028\n",
            "55  Cost:  22.078746058808868\n",
            "56  Cost:  22.055521168184875\n",
            "57  Cost:  22.03322025680215\n",
            "58  Cost:  22.01178156001286\n",
            "59  Cost:  21.99115099910607\n",
            "60  Cost:  21.97128088659766\n",
            "61  Cost:  21.95212886802153\n",
            "62  Cost:  21.933657056180362\n",
            "63  Cost:  21.915831322065824\n",
            "64  Cost:  21.89862071335735\n",
            "65  Cost:  21.881996976851134\n",
            "66  Cost:  21.865934165589877\n",
            "67  Cost:  21.85040831505634\n",
            "68  Cost:  21.835397175710998\n",
            "69  Cost:  21.820879991524176\n",
            "70  Cost:  21.806837316082238\n",
            "71  Cost:  21.79325085941153\n",
            "72  Cost:  21.78010335993886\n",
            "73  Cost:  21.76737847704226\n",
            "74  Cost:  21.755060700487643\n",
            "75  Cost:  21.743135273732396\n",
            "76  Cost:  21.731588128633934\n",
            "77  Cost:  21.720405829554718\n",
            "78  Cost:  21.70957552522444\n",
            "79  Cost:  21.69908490702046\n",
            "80  Cost:  21.688922172571758\n",
            "81  Cost:  21.679075993792218\n",
            "82  Cost:  21.669535488609455\n",
            "83  Cost:  21.660290195789845\n",
            "84  Cost:  21.651330052366557\n",
            "85  Cost:  21.642645373266163\n",
            "86  Cost:  21.634226832801403\n",
            "87  Cost:  21.626065447755867\n",
            "88  Cost:  21.618152561833874\n",
            "89  Cost:  21.61047983128922\n",
            "90  Cost:  21.60303921157698\n",
            "91  Cost:  21.59582294489978\n",
            "92  Cost:  21.588823548540976\n",
            "93  Cost:  21.5820338038946\n",
            "94  Cost:  21.575446746117013\n",
            "95  Cost:  21.56905565433641\n",
            "96  Cost:  21.562854042365952\n",
            "97  Cost:  21.556835649875715\n",
            "98  Cost:  21.55099443398309\n",
            "99  Cost:  21.545324561228885\n",
            "100  Cost:  21.53982039990937\n",
            "101  Cost:  21.53447651273953\n",
            "102  Cost:  21.52928764982452\n",
            "103  Cost:  21.52424874192076\n",
            "104  Cost:  21.51935489396841\n",
            "105  Cost:  21.51460137888015\n",
            "106  Cost:  21.509983631572688\n",
            "107  Cost:  21.505497243227417\n",
            "108  Cost:  21.50113795577001\n",
            "109  Cost:  21.496901656557295\n",
            "110  Cost:  21.492784373263042\n",
            "111  Cost:  21.48878226895224\n",
            "112  Cost:  21.484891637336993\n",
            "113  Cost:  21.481108898205598\n",
            "114  Cost:  21.477430593017537\n",
            "115  Cost:  21.47385338065813\n",
            "116  Cost:  21.470374033345756\n",
            "117  Cost:  21.466989432686255\n",
            "118  Cost:  21.463696565868236\n",
            "119  Cost:  21.460492521994293\n",
            "120  Cost:  21.457374488542722\n",
            "121  Cost:  21.45433974795481\n",
            "122  Cost:  21.45138567434315\n",
            "123  Cost:  21.448509730316246\n",
            "124  Cost:  21.445709463915364\n",
            "125  Cost:  21.442982505659412\n",
            "126  Cost:  21.44032656569371\n",
            "127  Cost:  21.437739431039372\n",
            "128  Cost:  21.435218962938954\n",
            "129  Cost:  21.43276309429556\n",
            "130  Cost:  21.430369827201552\n",
            "131  Cost:  21.428037230554093\n",
            "132  Cost:  21.42576343775385\n",
            "133  Cost:  21.42354664448453\n",
            "134  Cost:  21.421385106569744\n",
            "135  Cost:  21.419277137904967\n",
            "136  Cost:  21.417221108461643\n",
            "137  Cost:  21.415215442360807\n",
            "138  Cost:  21.413258616014183\n",
            "139  Cost:  21.41134915632978\n",
            "140  Cost:  21.409485638980055\n",
            "141  Cost:  21.407666686730625\n",
            "142  Cost:  21.40589096782685\n",
            "143  Cost:  21.404157194436667\n",
            "144  Cost:  21.402464121147652\n",
            "145  Cost:  21.400810543516172\n",
            "146  Cost:  21.39919529666705\n",
            "147  Cost:  21.397617253941835\n",
            "148  Cost:  21.396075325594026\n",
            "149  Cost:  21.39456845752947\n",
            "150  Cost:  21.393095630090595\n",
            "151  Cost:  21.391655856882778\n",
            "152  Cost:  21.390248183641223\n",
            "153  Cost:  21.38887168713739\n",
            "154  Cost:  21.38752547412305\n",
            "155  Cost:  21.386208680310922\n",
            "156  Cost:  21.384920469390927\n",
            "157  Cost:  21.383660032079945\n",
            "158  Cost:  21.382426585204822\n",
            "159  Cost:  21.381219370816996\n",
            "160  Cost:  21.380037655337627\n",
            "161  Cost:  21.378880728732405\n",
            "162  Cost:  21.377747903714774\n",
            "163  Cost:  21.376638514976573\n",
            "164  Cost:  21.375551918445503\n",
            "165  Cost:  21.374487490567773\n",
            "166  Cost:  21.373444627616106\n",
            "167  Cost:  21.372422745020945\n",
            "168  Cost:  21.37142127672514\n",
            "169  Cost:  21.370439674560675\n",
            "170  Cost:  21.369477407646954\n",
            "171  Cost:  21.368533961809803\n",
            "172  Cost:  21.367608839020267\n",
            "173  Cost:  21.36670155685305\n",
            "174  Cost:  21.365811647963223\n",
            "175  Cost:  21.364938659581217\n",
            "176  Cost:  21.364082153024945\n",
            "177  Cost:  21.363241703228855\n",
            "178  Cost:  21.36241689828893\n",
            "179  Cost:  21.36160733902359\n",
            "180  Cost:  21.360812638549387\n",
            "181  Cost:  21.360032421871388\n",
            "182  Cost:  21.359266325487663\n",
            "183  Cost:  21.358513997007105\n",
            "184  Cost:  21.357775094780447\n",
            "185  Cost:  21.357049287544147\n",
            "186  Cost:  21.356336254076002\n",
            "187  Cost:  21.355635682862808\n",
            "188  Cost:  21.354947271779487\n",
            "189  Cost:  21.35427072777891\n",
            "190  Cost:  21.353605766592487\n",
            "191  Cost:  21.35295211244091\n",
            "192  Cost:  21.352309497754757\n",
            "193  Cost:  21.35167766290485\n",
            "194  Cost:  21.351056355941317\n",
            "195  Cost:  21.350445332342\n",
            "196  Cost:  21.349844354769264\n",
            "197  Cost:  21.34925319283505\n",
            "198  Cost:  21.348671622874015\n",
            "199  Cost:  21.34809942772426\n",
            "200  Cost:  21.347536396515522\n",
            "201  Cost:  21.346982324464747\n",
            "202  Cost:  21.3464370126784\n",
            "203  Cost:  21.34590026796153\n",
            "204  Cost:  21.345371902633364\n",
            "205  Cost:  21.34485173434909\n",
            "206  Cost:  21.344339585927603\n",
            "207  Cost:  21.343835285185424\n",
            "208  Cost:  21.34333866477568\n",
            "209  Cost:  21.342849562033088\n",
            "210  Cost:  21.342367818823682\n",
            "211  Cost:  21.341893281400104\n",
            "212  Cost:  21.34142580026132\n",
            "213  Cost:  21.340965230017275\n",
            "214  Cost:  21.34051142925835\n",
            "215  Cost:  21.340064260428544\n",
            "216  Cost:  21.339623589703706\n",
            "217  Cost:  21.339189286873296\n",
            "218  Cost:  21.338761225226357\n",
            "219  Cost:  21.338339281441346\n",
            "220  Cost:  21.33792333547948\n",
            "221  Cost:  21.337513270481807\n",
            "222  Cost:  21.33710897266965\n",
            "223  Cost:  21.33671033124848\n",
            "224  Cost:  21.33631723831487\n",
            "225  Cost:  21.3359295887666\n",
            "226  Cost:  21.335547280215838\n",
            "227  Cost:  21.335170212905094\n",
            "228  Cost:  21.3347982896261\n",
            "229  Cost:  21.3344314156413\n",
            "230  Cost:  21.334069498607924\n",
            "231  Cost:  21.333712448504762\n",
            "232  Cost:  21.33336017756102\n",
            "233  Cost:  21.33301260018802\n",
            "234  Cost:  21.332669632912705\n",
            "235  Cost:  21.332331194313635\n",
            "236  Cost:  21.331997204958956\n",
            "237  Cost:  21.331667587346384\n",
            "238  Cost:  21.331342265845375\n",
            "239  Cost:  21.33102116664108\n",
            "240  Cost:  21.33070421767993\n",
            "241  Cost:  21.330391348617432\n",
            "242  Cost:  21.330082490767335\n",
            "243  Cost:  21.32977757705256\n",
            "244  Cost:  21.32947654195787\n",
            "245  Cost:  21.329179321483917\n",
            "246  Cost:  21.328885853102808\n",
            "247  Cost:  21.328596075715154\n",
            "248  Cost:  21.328309929608665\n",
            "249  Cost:  21.328027356417735\n",
            "250  Cost:  21.327748299084753\n",
            "251  Cost:  21.3274727018223\n",
            "252  Cost:  21.32720051007694\n",
            "253  Cost:  21.326931670493725\n",
            "254  Cost:  21.326666130882302\n",
            "255  Cost:  21.32640384018384\n",
            "256  Cost:  21.32614474843916\n",
            "257  Cost:  21.325888806757632\n",
            "258  Cost:  21.32563596728751\n",
            "259  Cost:  21.325386183186758\n",
            "260  Cost:  21.325139408595156\n",
            "261  Cost:  21.32489559860699\n",
            "262  Cost:  21.324654709245117\n",
            "263  Cost:  21.324416697435062\n",
            "264  Cost:  21.324181520980733\n",
            "265  Cost:  21.323949138540367\n",
            "266  Cost:  21.323719509603613\n",
            "267  Cost:  21.323492594468952\n",
            "268  Cost:  21.32326835422217\n",
            "269  Cost:  21.323046750715346\n",
            "270  Cost:  21.322827746546498\n",
            "271  Cost:  21.322611305039892\n",
            "272  Cost:  21.322397390226957\n",
            "273  Cost:  21.322185966827806\n",
            "274  Cost:  21.32197700023343\n",
            "275  Cost:  21.321770456488093\n",
            "276  Cost:  21.321566302272835\n",
            "277  Cost:  21.32136450488882\n",
            "278  Cost:  21.321165032241886\n",
            "279  Cost:  21.32096785282698\n",
            "280  Cost:  21.320772935713432\n",
            "281  Cost:  21.320580250530526\n",
            "282  Cost:  21.3203897674536\n",
            "283  Cost:  21.320201457190375\n",
            "284  Cost:  21.320015290968055\n",
            "285  Cost:  21.319831240520426\n",
            "286  Cost:  21.31964927807564\n",
            "287  Cost:  21.31946937634406\n",
            "288  Cost:  21.319291508506932\n",
            "289  Cost:  21.319115648204853\n",
            "290  Cost:  21.318941769527036\n",
            "291  Cost:  21.318769847000585\n",
            "292  Cost:  21.3185998555803\n",
            "293  Cost:  21.318431770638583\n",
            "294  Cost:  21.318265567955866\n",
            "295  Cost:  21.31810122371112\n",
            "296  Cost:  21.317938714472685\n",
            "297  Cost:  21.317778017189593\n",
            "298  Cost:  21.317619109182726\n",
            "299  Cost:  21.31746196813656\n",
            "Time take is 15.582189083099365\n"
          ],
          "name": "stdout"
        }
      ]
    },
    {
      "cell_type": "code",
      "metadata": {
        "colab": {
          "base_uri": "https://localhost:8080/"
        },
        "id": "L3eskbTv_naQ",
        "outputId": "e2de05c7-ef94-4226-c374-f581c33aadf2"
      },
      "source": [
        "print(m)"
      ],
      "execution_count": 58,
      "outputs": [
        {
          "output_type": "stream",
          "text": [
            "[-0.93737274  0.96641658  0.07792085  0.73307693 -2.59358528  2.47345195\n",
            "  0.31205607 -3.27602913  2.23480226 -1.15537346 -2.26675759  0.85016747\n",
            " -4.0404237  22.54529776]\n"
          ],
          "name": "stdout"
        }
      ]
    },
    {
      "cell_type": "code",
      "metadata": {
        "colab": {
          "base_uri": "https://localhost:8080/",
          "height": 282
        },
        "id": "oq7h7oFw_qN9",
        "outputId": "abc1ebe5-39cf-48cf-c632-73c429e70896"
      },
      "source": [
        "plt.plot(error_list)"
      ],
      "execution_count": 59,
      "outputs": [
        {
          "output_type": "execute_result",
          "data": {
            "text/plain": [
              "[<matplotlib.lines.Line2D at 0x7f7ecc3a9ed0>]"
            ]
          },
          "metadata": {
            "tags": []
          },
          "execution_count": 59
        },
        {
          "output_type": "display_data",
          "data": {
            "image/png": "[encoded data removed]",
            "text/plain": [
              "<Figure size 432x288 with 1 Axes>"
            ]
          },
          "metadata": {
            "tags": [],
            "needs_background": "light"
          }
        }
      ]
    },
    {
      "cell_type": "code",
      "metadata": {
        "colab": {
          "base_uri": "https://localhost:8080/"
        },
        "id": "y3uBLGOVBXIB",
        "outputId": "d3841984-bf80-46df-cf3e-ec11009668c6"
      },
      "source": [
        "Y_pred = predict(X_test,m)\n",
        "score(Y_test,Y_pred)"
      ],
      "execution_count": 62,
      "outputs": [
        {
          "output_type": "execute_result",
          "data": {
            "text/plain": [
              "0.7132810521829651"
            ]
          },
          "metadata": {
            "tags": []
          },
          "execution_count": 62
        }
      ]
    },
    {
      "cell_type": "markdown",
      "metadata": {
        "id": "YB0gmF1PIa4w"
      },
      "source": [
        "## Linear Regression Using Vectorization - Faster"
      ]
    },
    {
      "cell_type": "code",
      "metadata": {
        "id": "bqHumurEIhZz"
      },
      "source": [
        "# X - Matrix(m*n)\n",
        "# x - single example, single row with n features\n",
        "# predict - prediction of whole dataset\n",
        "\n",
        "def predict(X,m):\n",
        "  return np.dot(X,m)\n",
        "\n",
        "def error(X,Y,m):\n",
        "  M = X.shape[0]\n",
        "  Y_ = predict(X,m)\n",
        "  e = ((Y - Y_)**2).sum()\n",
        "  return e/M\n",
        "\n",
        "def gradient(X,Y,m):\n",
        "  M = X.shape[0]\n",
        "  Y_ = predict(X,m)\n",
        "  grad = np.dot(X.T,(Y_-Y))\n",
        "  return grad/M\n",
        "\n",
        "def gradient_descent(X,Y,lr = 0.1,max_iter = 300):\n",
        "  M,N = X.shape\n",
        "  m = np.zeros((N,))\n",
        "  error_list = []\n",
        "\n",
        "  for i in range(max_iter):\n",
        "    e = error(X,Y,m)\n",
        "    print(i, \" Cost: \", e)\n",
        "    error_list.append(e)\n",
        "\n",
        "    grad = gradient(X,Y,m)\n",
        "    m = m - lr*grad\n",
        "\n",
        "  return m,error_list"
      ],
      "execution_count": 63,
      "outputs": []
    },
    {
      "cell_type": "code",
      "metadata": {
        "colab": {
          "base_uri": "https://localhost:8080/"
        },
        "id": "4Uf7naGBMDyZ",
        "outputId": "1582b582-d1ed-4d45-fa96-6ad86d6d175f"
      },
      "source": [
        "import time\n",
        "start = time.time()\n",
        "m,error_list = gradient_descent(X_train,Y_train)\n",
        "end = time.time()\n",
        "print(f\"Time take is {end-start}\")"
      ],
      "execution_count": 64,
      "outputs": [
        {
          "output_type": "stream",
          "text": [
            "0  Cost:  586.7866666666666\n",
            "1  Cost:  463.8322198222978\n",
            "2  Cost:  376.4948211537435\n",
            "3  Cost:  308.1071281818554\n",
            "4  Cost:  253.37391009539562\n",
            "5  Cost:  209.34039314922478\n",
            "6  Cost:  173.85133623735604\n",
            "7  Cost:  145.21809126497465\n",
            "8  Cost:  122.0957199492143\n",
            "9  Cost:  103.40825453214835\n",
            "10  Cost:  88.29322886161607\n",
            "11  Cost:  76.05837511747995\n",
            "12  Cost:  66.14739583531076\n",
            "13  Cost:  58.11279543013939\n",
            "14  Cost:  51.59426316047448\n",
            "15  Cost:  46.301439968860045\n",
            "16  Cost:  42.00015657146286\n",
            "17  Cost:  38.501426417586174\n",
            "18  Cost:  35.65262949099817\n",
            "19  Cost:  33.330441703571445\n",
            "20  Cost:  31.43515754231675\n",
            "21  Cost:  29.8861265244201\n",
            "22  Cost:  28.618081364061137\n",
            "23  Cost:  27.578180993125514\n",
            "24  Cost:  26.72362735093192\n",
            "25  Cost:  26.01974321128295\n",
            "26  Cost:  25.43842083549516\n",
            "27  Cost:  24.956869162858943\n",
            "28  Cost:  24.556601539804337\n",
            "29  Cost:  24.222617401384927\n",
            "30  Cost:  23.942740446946324\n",
            "31  Cost:  23.70708316338938\n",
            "32  Cost:  23.50761341331649\n",
            "33  Cost:  23.337803513662013\n",
            "34  Cost:  23.192346014868377\n",
            "35  Cost:  23.066923435467285\n",
            "36  Cost:  22.958021658750667\n",
            "37  Cost:  22.8627786741022\n",
            "38  Cost:  22.77886193902606\n",
            "39  Cost:  22.70436892379727\n",
            "40  Cost:  22.6377464389418\n",
            "41  Cost:  22.57772518455335\n",
            "42  Cost:  22.523266638417585\n",
            "43  Cost:  22.473519948120764\n",
            "44  Cost:  22.427786935775746\n",
            "45  Cost:  22.385493682849084\n",
            "46  Cost:  22.346167453053614\n",
            "47  Cost:  22.30941794647804\n",
            "48  Cost:  22.27492206862813\n",
            "49  Cost:  22.242411552388006\n",
            "50  Cost:  22.21166289597128\n",
            "51  Cost:  22.182489181293292\n",
            "52  Cost:  22.154733419366398\n",
            "53  Cost:  22.128263135944213\n",
            "54  Cost:  22.102965964670275\n",
            "55  Cost:  22.07874605880886\n",
            "56  Cost:  22.055521168184896\n",
            "57  Cost:  22.03322025680215\n",
            "58  Cost:  22.01178156001289\n",
            "59  Cost:  21.991150999106083\n",
            "60  Cost:  21.971280886597672\n",
            "61  Cost:  21.95212886802154\n",
            "62  Cost:  21.933657056180365\n",
            "63  Cost:  21.915831322065802\n",
            "64  Cost:  21.89862071335735\n",
            "65  Cost:  21.881996976851138\n",
            "66  Cost:  21.86593416558986\n",
            "67  Cost:  21.850408315056345\n",
            "68  Cost:  21.83539717571098\n",
            "69  Cost:  21.820879991524166\n",
            "70  Cost:  21.80683731608224\n",
            "71  Cost:  21.793250859411522\n",
            "72  Cost:  21.780103359938852\n",
            "73  Cost:  21.767378477042257\n",
            "74  Cost:  21.75506070048764\n",
            "75  Cost:  21.743135273732396\n",
            "76  Cost:  21.731588128633927\n",
            "77  Cost:  21.720405829554704\n",
            "78  Cost:  21.709575525224448\n",
            "79  Cost:  21.69908490702045\n",
            "80  Cost:  21.68892217257177\n",
            "81  Cost:  21.679075993792207\n",
            "82  Cost:  21.669535488609444\n",
            "83  Cost:  21.660290195789862\n",
            "84  Cost:  21.651330052366564\n",
            "85  Cost:  21.64264537326615\n",
            "86  Cost:  21.634226832801414\n",
            "87  Cost:  21.626065447755874\n",
            "88  Cost:  21.61815256183388\n",
            "89  Cost:  21.610479831289222\n",
            "90  Cost:  21.60303921157698\n",
            "91  Cost:  21.595822944899787\n",
            "92  Cost:  21.588823548540965\n",
            "93  Cost:  21.582033803894582\n",
            "94  Cost:  21.575446746117024\n",
            "95  Cost:  21.569055654336395\n",
            "96  Cost:  21.562854042365956\n",
            "97  Cost:  21.556835649875715\n",
            "98  Cost:  21.550994433983107\n",
            "99  Cost:  21.54532456122888\n",
            "100  Cost:  21.539820399909377\n",
            "101  Cost:  21.534476512739513\n",
            "102  Cost:  21.52928764982451\n",
            "103  Cost:  21.524248741920765\n",
            "104  Cost:  21.519354893968398\n",
            "105  Cost:  21.514601378880176\n",
            "106  Cost:  21.509983631572698\n",
            "107  Cost:  21.505497243227428\n",
            "108  Cost:  21.50113795576998\n",
            "109  Cost:  21.49690165655731\n",
            "110  Cost:  21.492784373263056\n",
            "111  Cost:  21.488782268952246\n",
            "112  Cost:  21.484891637337007\n",
            "113  Cost:  21.48110889820559\n",
            "114  Cost:  21.477430593017534\n",
            "115  Cost:  21.473853380658124\n",
            "116  Cost:  21.470374033345763\n",
            "117  Cost:  21.46698943268625\n",
            "118  Cost:  21.463696565868226\n",
            "119  Cost:  21.46049252199428\n",
            "120  Cost:  21.45737448854272\n",
            "121  Cost:  21.454339747954823\n",
            "122  Cost:  21.45138567434316\n",
            "123  Cost:  21.44850973031625\n",
            "124  Cost:  21.44570946391537\n",
            "125  Cost:  21.442982505659394\n",
            "126  Cost:  21.440326565693713\n",
            "127  Cost:  21.437739431039375\n",
            "128  Cost:  21.435218962938947\n",
            "129  Cost:  21.432763094295535\n",
            "130  Cost:  21.43036982720154\n",
            "131  Cost:  21.42803723055409\n",
            "132  Cost:  21.42576343775387\n",
            "133  Cost:  21.423546644484546\n",
            "134  Cost:  21.421385106569755\n",
            "135  Cost:  21.419277137904977\n",
            "136  Cost:  21.417221108461632\n",
            "137  Cost:  21.415215442360815\n",
            "138  Cost:  21.413258616014197\n",
            "139  Cost:  21.411349156329774\n",
            "140  Cost:  21.40948563898006\n",
            "141  Cost:  21.407666686730636\n",
            "142  Cost:  21.405890967826846\n",
            "143  Cost:  21.40415719443667\n",
            "144  Cost:  21.402464121147652\n",
            "145  Cost:  21.40081054351617\n",
            "146  Cost:  21.39919529666705\n",
            "147  Cost:  21.397617253941842\n",
            "148  Cost:  21.39607532559402\n",
            "149  Cost:  21.39456845752946\n",
            "150  Cost:  21.3930956300906\n",
            "151  Cost:  21.391655856882775\n",
            "152  Cost:  21.39024818364123\n",
            "153  Cost:  21.388871687137403\n",
            "154  Cost:  21.38752547412303\n",
            "155  Cost:  21.386208680310933\n",
            "156  Cost:  21.384920469390934\n",
            "157  Cost:  21.383660032079938\n",
            "158  Cost:  21.382426585204808\n",
            "159  Cost:  21.38121937081697\n",
            "160  Cost:  21.380037655337617\n",
            "161  Cost:  21.378880728732415\n",
            "162  Cost:  21.37774790371478\n",
            "163  Cost:  21.37663851497659\n",
            "164  Cost:  21.375551918445485\n",
            "165  Cost:  21.374487490567784\n",
            "166  Cost:  21.37344462761612\n",
            "167  Cost:  21.372422745020955\n",
            "168  Cost:  21.37142127672513\n",
            "169  Cost:  21.370439674560664\n",
            "170  Cost:  21.369477407646965\n",
            "171  Cost:  21.368533961809796\n",
            "172  Cost:  21.367608839020264\n",
            "173  Cost:  21.366701556853034\n",
            "174  Cost:  21.365811647963213\n",
            "175  Cost:  21.36493865958121\n",
            "176  Cost:  21.36408215302495\n",
            "177  Cost:  21.363241703228844\n",
            "178  Cost:  21.36241689828893\n",
            "179  Cost:  21.361607339023585\n",
            "180  Cost:  21.36081263854938\n",
            "181  Cost:  21.360032421871402\n",
            "182  Cost:  21.35926632548767\n",
            "183  Cost:  21.35851399700709\n",
            "184  Cost:  21.35777509478046\n",
            "185  Cost:  21.357049287544164\n",
            "186  Cost:  21.356336254075995\n",
            "187  Cost:  21.355635682862804\n",
            "188  Cost:  21.35494727177949\n",
            "189  Cost:  21.354270727778914\n",
            "190  Cost:  21.35360576659248\n",
            "191  Cost:  21.35295211244089\n",
            "192  Cost:  21.352309497754774\n",
            "193  Cost:  21.35167766290485\n",
            "194  Cost:  21.351056355941306\n",
            "195  Cost:  21.350445332341984\n",
            "196  Cost:  21.34984435476925\n",
            "197  Cost:  21.349253192835057\n",
            "198  Cost:  21.348671622874033\n",
            "199  Cost:  21.34809942772425\n",
            "200  Cost:  21.347536396515512\n",
            "201  Cost:  21.34698232446474\n",
            "202  Cost:  21.346437012678408\n",
            "203  Cost:  21.345900267961543\n",
            "204  Cost:  21.345371902633378\n",
            "205  Cost:  21.344851734349078\n",
            "206  Cost:  21.34433958592761\n",
            "207  Cost:  21.34383528518542\n",
            "208  Cost:  21.343338664775683\n",
            "209  Cost:  21.34284956203307\n",
            "210  Cost:  21.342367818823686\n",
            "211  Cost:  21.341893281400104\n",
            "212  Cost:  21.341425800261305\n",
            "213  Cost:  21.340965230017304\n",
            "214  Cost:  21.34051142925835\n",
            "215  Cost:  21.340064260428548\n",
            "216  Cost:  21.3396235897037\n",
            "217  Cost:  21.339189286873285\n",
            "218  Cost:  21.33876122522636\n",
            "219  Cost:  21.338339281441357\n",
            "220  Cost:  21.337923335479488\n",
            "221  Cost:  21.337513270481807\n",
            "222  Cost:  21.33710897266966\n",
            "223  Cost:  21.336710331248494\n",
            "224  Cost:  21.336317238314876\n",
            "225  Cost:  21.3359295887666\n",
            "226  Cost:  21.335547280215827\n",
            "227  Cost:  21.335170212905087\n",
            "228  Cost:  21.3347982896261\n",
            "229  Cost:  21.334431415641294\n",
            "230  Cost:  21.334069498607935\n",
            "231  Cost:  21.333712448504745\n",
            "232  Cost:  21.333360177561016\n",
            "233  Cost:  21.333012600188027\n",
            "234  Cost:  21.332669632912726\n",
            "235  Cost:  21.33233119431366\n",
            "236  Cost:  21.33199720495895\n",
            "237  Cost:  21.331667587346374\n",
            "238  Cost:  21.331342265845386\n",
            "239  Cost:  21.33102116664108\n",
            "240  Cost:  21.33070421767993\n",
            "241  Cost:  21.330391348617436\n",
            "242  Cost:  21.33008249076732\n",
            "243  Cost:  21.32977757705256\n",
            "244  Cost:  21.32947654195789\n",
            "245  Cost:  21.329179321483938\n",
            "246  Cost:  21.328885853102815\n",
            "247  Cost:  21.328596075715172\n",
            "248  Cost:  21.328309929608665\n",
            "249  Cost:  21.32802735641774\n",
            "250  Cost:  21.327748299084746\n",
            "251  Cost:  21.327472701822312\n",
            "252  Cost:  21.32720051007693\n",
            "253  Cost:  21.32693167049371\n",
            "254  Cost:  21.3266661308823\n",
            "255  Cost:  21.32640384018386\n",
            "256  Cost:  21.326144748439162\n",
            "257  Cost:  21.325888806757646\n",
            "258  Cost:  21.325635967287507\n",
            "259  Cost:  21.325386183186748\n",
            "260  Cost:  21.325139408595128\n",
            "261  Cost:  21.324895598607007\n",
            "262  Cost:  21.32465470924512\n",
            "263  Cost:  21.32441669743507\n",
            "264  Cost:  21.324181520980726\n",
            "265  Cost:  21.32394913854038\n",
            "266  Cost:  21.323719509603613\n",
            "267  Cost:  21.32349259446895\n",
            "268  Cost:  21.323268354222172\n",
            "269  Cost:  21.323046750715353\n",
            "270  Cost:  21.322827746546498\n",
            "271  Cost:  21.322611305039878\n",
            "272  Cost:  21.32239739022694\n",
            "273  Cost:  21.322185966827814\n",
            "274  Cost:  21.321977000233424\n",
            "275  Cost:  21.321770456488107\n",
            "276  Cost:  21.321566302272824\n",
            "277  Cost:  21.321364504888823\n",
            "278  Cost:  21.321165032241883\n",
            "279  Cost:  21.320967852826982\n",
            "280  Cost:  21.32077293571344\n",
            "281  Cost:  21.320580250530536\n",
            "282  Cost:  21.320389767453587\n",
            "283  Cost:  21.320201457190375\n",
            "284  Cost:  21.320015290968062\n",
            "285  Cost:  21.319831240520443\n",
            "286  Cost:  21.319649278075627\n",
            "287  Cost:  21.319469376344056\n",
            "288  Cost:  21.319291508506918\n",
            "289  Cost:  21.319115648204846\n",
            "290  Cost:  21.318941769527033\n",
            "291  Cost:  21.318769847000592\n",
            "292  Cost:  21.3185998555803\n",
            "293  Cost:  21.31843177063859\n",
            "294  Cost:  21.31826556795587\n",
            "295  Cost:  21.318101223711103\n",
            "296  Cost:  21.317938714472685\n",
            "297  Cost:  21.317778017189582\n",
            "298  Cost:  21.317619109182708\n",
            "299  Cost:  21.317461968136556\n",
            "Time take is 0.41488146781921387\n"
          ],
          "name": "stdout"
        }
      ]
    },
    {
      "cell_type": "code",
      "metadata": {
        "colab": {
          "base_uri": "https://localhost:8080/",
          "height": 265
        },
        "id": "CLK6CvZcMZoE",
        "outputId": "39bb9e63-6849-4dc6-fb1a-06482f5d5ace"
      },
      "source": [
        "plt.plot(error_list);"
      ],
      "execution_count": 66,
      "outputs": [
        {
          "output_type": "display_data",
          "data": {
            "image/png": "[encoded data removed]",
            "text/plain": [
              "<Figure size 432x288 with 1 Axes>"
            ]
          },
          "metadata": {
            "tags": [],
            "needs_background": "light"
          }
        }
      ]
    },
    {
      "cell_type": "code",
      "metadata": {
        "colab": {
          "base_uri": "https://localhost:8080/"
        },
        "id": "qqJQYdP8MOKO",
        "outputId": "dcc80fa2-f4a1-4891-ad79-9c5ef37df8ed"
      },
      "source": [
        "Y_pred = predict(X_test,m)\n",
        "score(Y_test,Y_pred)"
      ],
      "execution_count": 65,
      "outputs": [
        {
          "output_type": "execute_result",
          "data": {
            "text/plain": [
              "0.7132810521829651"
            ]
          },
          "metadata": {
            "tags": []
          },
          "execution_count": 65
        }
      ]
    },
    {
      "cell_type": "code",
      "metadata": {
        "id": "9TKdutU0MOq8"
      },
      "source": [
        ""
      ],
      "execution_count": null,
      "outputs": []
    }
  ]
}