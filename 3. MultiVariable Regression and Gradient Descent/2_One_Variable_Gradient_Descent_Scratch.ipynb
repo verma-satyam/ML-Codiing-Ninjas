{
  "nbformat": 4,
  "nbformat_minor": 0,
  "metadata": {
    "colab": {
      "name": "2_One_Variable_Gradient_Descent_Scratch.ipynb",
      "provenance": [],
      "authorship_tag": "ABX9TyNuaowR6s+T/LLZ3g7h662J",
      "include_colab_link": true
    },
    "kernelspec": {
      "name": "python3",
      "display_name": "Python 3"
    },
    "language_info": {
      "name": "python"
    }
  },
  "cells": [
    {
      "cell_type": "markdown",
      "metadata": {
        "id": "view-in-github",
        "colab_type": "text"
      },
      "source": [
        "<a href=\"https://colab.research.google.com/github/verma-satyam/ML-Codiing-Ninjas/blob/main/3.%20MultiVariable%20Regression%20and%20Gradient%20Descent/2_One_Variable_Gradient_Descent_Scratch.ipynb\" target=\"_parent\"><img src=\"https://colab.research.google.com/assets/colab-badge.svg\" alt=\"Open In Colab\"/></a>"
      ]
    },
    {
      "cell_type": "markdown",
      "metadata": {
        "id": "2LOX81mufB8h"
      },
      "source": [
        "## Importing dataset"
      ]
    },
    {
      "cell_type": "code",
      "metadata": {
        "id": "5TNi0kBpWyEz"
      },
      "source": [
        "import pandas as pd\n",
        "import numpy as np"
      ],
      "execution_count": 1,
      "outputs": []
    },
    {
      "cell_type": "code",
      "metadata": {
        "colab": {
          "base_uri": "https://localhost:8080/",
          "height": 419
        },
        "id": "q1evurwmXTkP",
        "outputId": "a348da0d-cb2e-4d9b-d4a7-6f9ad16aa8ce"
      },
      "source": [
        "data = pd.read_csv('data.csv',names=['X','Y'])\n",
        "data"
      ],
      "execution_count": 5,
      "outputs": [
        {
          "output_type": "execute_result",
          "data": {
            "text/html": [
              "<div>\n",
              "<style scoped>\n",
              "    .dataframe tbody tr th:only-of-type {\n",
              "        vertical-align: middle;\n",
              "    }\n",
              "\n",
              "    .dataframe tbody tr th {\n",
              "        vertical-align: top;\n",
              "    }\n",
              "\n",
              "    .dataframe thead th {\n",
              "        text-align: right;\n",
              "    }\n",
              "</style>\n",
              "<table border=\"1\" class=\"dataframe\">\n",
              "  <thead>\n",
              "    <tr style=\"text-align: right;\">\n",
              "      <th></th>\n",
              "      <th>X</th>\n",
              "      <th>Y</th>\n",
              "    </tr>\n",
              "  </thead>\n",
              "  <tbody>\n",
              "    <tr>\n",
              "      <th>0</th>\n",
              "      <td>32.502345</td>\n",
              "      <td>31.707006</td>\n",
              "    </tr>\n",
              "    <tr>\n",
              "      <th>1</th>\n",
              "      <td>53.426804</td>\n",
              "      <td>68.777596</td>\n",
              "    </tr>\n",
              "    <tr>\n",
              "      <th>2</th>\n",
              "      <td>61.530358</td>\n",
              "      <td>62.562382</td>\n",
              "    </tr>\n",
              "    <tr>\n",
              "      <th>3</th>\n",
              "      <td>47.475640</td>\n",
              "      <td>71.546632</td>\n",
              "    </tr>\n",
              "    <tr>\n",
              "      <th>4</th>\n",
              "      <td>59.813208</td>\n",
              "      <td>87.230925</td>\n",
              "    </tr>\n",
              "    <tr>\n",
              "      <th>...</th>\n",
              "      <td>...</td>\n",
              "      <td>...</td>\n",
              "    </tr>\n",
              "    <tr>\n",
              "      <th>95</th>\n",
              "      <td>50.030174</td>\n",
              "      <td>81.536991</td>\n",
              "    </tr>\n",
              "    <tr>\n",
              "      <th>96</th>\n",
              "      <td>49.239765</td>\n",
              "      <td>72.111832</td>\n",
              "    </tr>\n",
              "    <tr>\n",
              "      <th>97</th>\n",
              "      <td>50.039576</td>\n",
              "      <td>85.232007</td>\n",
              "    </tr>\n",
              "    <tr>\n",
              "      <th>98</th>\n",
              "      <td>48.149859</td>\n",
              "      <td>66.224958</td>\n",
              "    </tr>\n",
              "    <tr>\n",
              "      <th>99</th>\n",
              "      <td>25.128485</td>\n",
              "      <td>53.454394</td>\n",
              "    </tr>\n",
              "  </tbody>\n",
              "</table>\n",
              "<p>100 rows × 2 columns</p>\n",
              "</div>"
            ],
            "text/plain": [
              "            X          Y\n",
              "0   32.502345  31.707006\n",
              "1   53.426804  68.777596\n",
              "2   61.530358  62.562382\n",
              "3   47.475640  71.546632\n",
              "4   59.813208  87.230925\n",
              "..        ...        ...\n",
              "95  50.030174  81.536991\n",
              "96  49.239765  72.111832\n",
              "97  50.039576  85.232007\n",
              "98  48.149859  66.224958\n",
              "99  25.128485  53.454394\n",
              "\n",
              "[100 rows x 2 columns]"
            ]
          },
          "metadata": {
            "tags": []
          },
          "execution_count": 5
        }
      ]
    },
    {
      "cell_type": "markdown",
      "metadata": {
        "id": "EnP7uAElfFg4"
      },
      "source": [
        "## Gradient Descent Scratch"
      ]
    },
    {
      "cell_type": "code",
      "metadata": {
        "id": "U2cloMEIcsbV"
      },
      "source": [
        "def step_gradient(data, lr, m, c):\n",
        "  m_slope = ((-2)*(data.Y - m*data.X - c)*data.X).mean()\n",
        "  c_slope = ((-2)*(data.Y - m*data.X - c)).mean()\n",
        "  new_m = m - lr*m_slope\n",
        "  new_c = c - lr*c_slope\n",
        "  return new_m,new_c\n",
        "\n",
        "def gd(data, lr, num_it):\n",
        "  m = 0\n",
        "  c = 0\n",
        "  for i in range(num_it):\n",
        "    m, c = step_gradient(data,lr,m,c)\n",
        "    print(i,\" Cost:\",cost(data,m,c))\n",
        "  return m,c\n",
        "\n",
        "def cost(data,m,c):\n",
        "  return ((data.Y - m*data.X - c)**2).mean()\n",
        "\n",
        "def run():\n",
        "  lr = 0.0001\n",
        "  num_it = 100\n",
        "  m,c = gd(data,lr,num_it)\n",
        "  print(m, c)"
      ],
      "execution_count": 15,
      "outputs": []
    },
    {
      "cell_type": "code",
      "metadata": {
        "colab": {
          "base_uri": "https://localhost:8080/"
        },
        "id": "5_MEP5lodfAI",
        "outputId": "fa1fda81-cf03-423a-9f67-817b9e9dd2d8"
      },
      "source": [
        "run()"
      ],
      "execution_count": 23,
      "outputs": [
        {
          "output_type": "stream",
          "text": [
            "0  Cost: 1484.5865574086486\n",
            "1  Cost: 457.85425757376686\n",
            "2  Cost: 199.50998572553868\n",
            "3  Cost: 134.50591058200527\n",
            "4  Cost: 118.14969342239947\n",
            "5  Cost: 114.03414906038147\n",
            "6  Cost: 112.99857731713655\n",
            "7  Cost: 112.73798187568467\n",
            "8  Cost: 112.67238435909097\n",
            "9  Cost: 112.65585181499742\n",
            "10  Cost: 112.65166489759581\n",
            "11  Cost: 112.65058436150107\n",
            "12  Cost: 112.65028544701498\n",
            "13  Cost: 112.65018320293966\n",
            "14  Cost: 112.65013044507194\n",
            "15  Cost: 112.65009013922884\n",
            "16  Cost: 112.65005296694626\n",
            "17  Cost: 112.65001658353181\n",
            "18  Cost: 112.64998039901866\n",
            "19  Cost: 112.64994426496072\n",
            "20  Cost: 112.6499081440062\n",
            "21  Cost: 112.64987202675677\n",
            "22  Cost: 112.64983591084756\n",
            "23  Cost: 112.64979979568366\n",
            "24  Cost: 112.64976368111527\n",
            "25  Cost: 112.64972756710466\n",
            "26  Cost: 112.64969145364233\n",
            "27  Cost: 112.64965534072607\n",
            "28  Cost: 112.64961922835508\n",
            "29  Cost: 112.6495831165293\n",
            "30  Cost: 112.64954700524876\n",
            "31  Cost: 112.64951089451323\n",
            "32  Cost: 112.64947478432273\n",
            "33  Cost: 112.64943867467746\n",
            "34  Cost: 112.64940256557723\n",
            "35  Cost: 112.64936645702217\n",
            "36  Cost: 112.64933034901209\n",
            "37  Cost: 112.64929424154705\n",
            "38  Cost: 112.6492581346271\n",
            "39  Cost: 112.64922202825224\n",
            "40  Cost: 112.64918592242233\n",
            "41  Cost: 112.64914981713751\n",
            "42  Cost: 112.64911371239774\n",
            "43  Cost: 112.64907760820296\n",
            "44  Cost: 112.64904150455318\n",
            "45  Cost: 112.64900540144839\n",
            "46  Cost: 112.64896929888866\n",
            "47  Cost: 112.64893319687388\n",
            "48  Cost: 112.64889709540407\n",
            "49  Cost: 112.64886099447921\n",
            "50  Cost: 112.64882489409928\n",
            "51  Cost: 112.64878879426429\n",
            "52  Cost: 112.64875269497426\n",
            "53  Cost: 112.64871659622935\n",
            "54  Cost: 112.64868049802915\n",
            "55  Cost: 112.64864440037393\n",
            "56  Cost: 112.64860830326371\n",
            "57  Cost: 112.64857220669819\n",
            "58  Cost: 112.64853611067774\n",
            "59  Cost: 112.64850001520205\n",
            "60  Cost: 112.6484639202713\n",
            "61  Cost: 112.64842782588543\n",
            "62  Cost: 112.6483917320444\n",
            "63  Cost: 112.64835563874827\n",
            "64  Cost: 112.64831954599684\n",
            "65  Cost: 112.64828345379037\n",
            "66  Cost: 112.64824736212879\n",
            "67  Cost: 112.6482112710119\n",
            "68  Cost: 112.64817518043985\n",
            "69  Cost: 112.6481390904126\n",
            "70  Cost: 112.64810300093019\n",
            "71  Cost: 112.64806691199254\n",
            "72  Cost: 112.64803082359971\n",
            "73  Cost: 112.6479947357516\n",
            "74  Cost: 112.64795864844822\n",
            "75  Cost: 112.64792256168963\n",
            "76  Cost: 112.64788647547573\n",
            "77  Cost: 112.64785038980659\n",
            "78  Cost: 112.64781430468226\n",
            "79  Cost: 112.64777822010261\n",
            "80  Cost: 112.64774213606762\n",
            "81  Cost: 112.64770605257745\n",
            "82  Cost: 112.64766996963188\n",
            "83  Cost: 112.64763388723095\n",
            "84  Cost: 112.6475978053748\n",
            "85  Cost: 112.64756172406331\n",
            "86  Cost: 112.64752564329649\n",
            "87  Cost: 112.64748956307434\n",
            "88  Cost: 112.64745348339673\n",
            "89  Cost: 112.64741740426382\n",
            "90  Cost: 112.64738132567555\n",
            "91  Cost: 112.64734524763195\n",
            "92  Cost: 112.64730917013287\n",
            "93  Cost: 112.64727309317844\n",
            "94  Cost: 112.6472370167686\n",
            "95  Cost: 112.64720094090335\n",
            "96  Cost: 112.64716486558267\n",
            "97  Cost: 112.64712879080653\n",
            "98  Cost: 112.64709271657505\n",
            "99  Cost: 112.64705664288806\n",
            "1.4788027175308358 0.03507497059234175\n"
          ],
          "name": "stdout"
        }
      ]
    }
  ]
}