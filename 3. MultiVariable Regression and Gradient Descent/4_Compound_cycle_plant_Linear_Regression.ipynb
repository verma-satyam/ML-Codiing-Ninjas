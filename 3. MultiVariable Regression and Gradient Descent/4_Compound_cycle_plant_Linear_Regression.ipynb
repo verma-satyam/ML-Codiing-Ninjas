{
  "nbformat": 4,
  "nbformat_minor": 0,
  "metadata": {
    "colab": {
      "name": "4. Compound cycle plant_Linear_Regression.ipynb",
      "provenance": [],
      "toc_visible": true,
      "authorship_tag": "ABX9TyMiMB4PMWPo1/hoQZvJcfvY",
      "include_colab_link": true
    },
    "kernelspec": {
      "name": "python3",
      "display_name": "Python 3"
    },
    "language_info": {
      "name": "python"
    }
  },
  "cells": [
    {
      "cell_type": "markdown",
      "metadata": {
        "id": "view-in-github",
        "colab_type": "text"
      },
      "source": [
        "<a href=\"https://colab.research.google.com/github/verma-satyam/ML-Coding-Ninjas/blob/main/3.%20MultiVariable%20Regression%20and%20Gradient%20Descent/4_Compound_cycle_plant_Linear_Regression.ipynb\" target=\"_parent\"><img src=\"https://colab.research.google.com/assets/colab-badge.svg\" alt=\"Open In Colab\"/></a>"
      ]
    },
    {
      "cell_type": "markdown",
      "metadata": {
        "id": "Q1a-yFHh34Mv"
      },
      "source": [
        "## Preprocessing"
      ]
    },
    {
      "cell_type": "code",
      "metadata": {
        "id": "xMA7TAq7N3jK"
      },
      "source": [
        "import numpy as np\n",
        "import matplotlib.pyplot as plt"
      ],
      "execution_count": 25,
      "outputs": []
    },
    {
      "cell_type": "code",
      "metadata": {
        "id": "t4yzgaFnPVUi"
      },
      "source": [
        "data = np.loadtxt(\"dataset.csv\",delimiter=\",\",skiprows=1)"
      ],
      "execution_count": 26,
      "outputs": []
    },
    {
      "cell_type": "code",
      "metadata": {
        "id": "swtBG8GN2SOC"
      },
      "source": [
        "X = data[:,0:4]\n",
        "Y = data[:,4]"
      ],
      "execution_count": 27,
      "outputs": []
    },
    {
      "cell_type": "code",
      "metadata": {
        "colab": {
          "base_uri": "https://localhost:8080/"
        },
        "id": "7U_LGSK4RjJr",
        "outputId": "598e926c-2889-49cc-97f1-1bb18c72d3cc"
      },
      "source": [
        "u = np.mean(X,axis=0)\n",
        "std = np.std(X,axis=0)\n",
        "X = (X-u)/std\n",
        "X"
      ],
      "execution_count": null,
      "outputs": [
        {
          "output_type": "execute_result",
          "data": {
            "text/plain": [
              "array([[-1.51786152, -1.065205  , -0.40735691,  1.14394435],\n",
              "       [ 0.5352555 ,  0.32927685, -0.31305658,  0.06103098],\n",
              "       [ 1.35381849,  0.20415122, -1.02872873, -2.15068773],\n",
              "       ...,\n",
              "       [-0.49130301, -0.86295791,  0.15844507,  0.36652077],\n",
              "       [-0.26854652,  0.43787645,  0.89600837,  1.46176333],\n",
              "       [ 0.54062312, -0.23654282, -0.2355956 , -0.14171561]])"
            ]
          },
          "metadata": {
            "tags": []
          },
          "execution_count": 16
        }
      ]
    },
    {
      "cell_type": "code",
      "metadata": {
        "colab": {
          "base_uri": "https://localhost:8080/"
        },
        "id": "fPakxuH7B8nr",
        "outputId": "2a3941ca-e5d3-49f7-892c-eab245798416"
      },
      "source": [
        "ones = np.ones((X.shape[0],1))\n",
        "X = np.hstack((X,ones))\n",
        "X"
      ],
      "execution_count": null,
      "outputs": [
        {
          "output_type": "execute_result",
          "data": {
            "text/plain": [
              "array([[-1.51786152, -1.065205  , -0.40735691,  1.14394435,  1.        ],\n",
              "       [ 0.5352555 ,  0.32927685, -0.31305658,  0.06103098,  1.        ],\n",
              "       [ 1.35381849,  0.20415122, -1.02872873, -2.15068773,  1.        ],\n",
              "       ...,\n",
              "       [-0.49130301, -0.86295791,  0.15844507,  0.36652077,  1.        ],\n",
              "       [-0.26854652,  0.43787645,  0.89600837,  1.46176333,  1.        ],\n",
              "       [ 0.54062312, -0.23654282, -0.2355956 , -0.14171561,  1.        ]])"
            ]
          },
          "metadata": {
            "tags": []
          },
          "execution_count": 17
        }
      ]
    },
    {
      "cell_type": "code",
      "metadata": {
        "id": "wAg-vJwIFB8k"
      },
      "source": [
        "from sklearn import model_selection\n",
        "X_train,X_test,Y_train,Y_test = model_selection.train_test_split(X,Y,test_size=0.3)"
      ],
      "execution_count": 28,
      "outputs": []
    },
    {
      "cell_type": "markdown",
      "metadata": {
        "id": "YB0gmF1PIa4w"
      },
      "source": [
        "## Linear Regression Using Vectorization - Faster"
      ]
    },
    {
      "cell_type": "code",
      "metadata": {
        "id": "bqHumurEIhZz"
      },
      "source": [
        "# X - Matrix(m*n)\n",
        "# x - single example, single row with n features\n",
        "# predict - prediction of whole dataset\n",
        "\n",
        "def predict(X,m):\n",
        "  return np.dot(X,m)\n",
        "\n",
        "def error(X,Y,m):\n",
        "  M = X.shape[0]\n",
        "  Y_ = predict(X,m)\n",
        "  e = ((Y - Y_)**2).sum()\n",
        "  return e/M\n",
        "\n",
        "def gradient(X,Y,m):\n",
        "  M = X.shape[0]\n",
        "  Y_ = predict(X,m)\n",
        "  grad = np.dot(X.T,(Y_-Y))\n",
        "  return grad/M\n",
        "\n",
        "def gradient_descent(X,Y,lr = 0.1,max_iter = 300):\n",
        "  M,N = X.shape\n",
        "  m = np.zeros((N,))\n",
        "  error_list = []\n",
        "\n",
        "  for i in range(max_iter):\n",
        "    e = error(X,Y,m)\n",
        "    print(i, \" Cost: \", e)\n",
        "    error_list.append(e)\n",
        "\n",
        "    grad = gradient(X,Y,m)\n",
        "    m = m - lr*grad\n",
        "\n",
        "  return m,error_list"
      ],
      "execution_count": null,
      "outputs": []
    },
    {
      "cell_type": "code",
      "metadata": {
        "id": "BSRNKwLtRuWz"
      },
      "source": [
        "def score(Y_truth, Y_pred):\n",
        "  u = ((Y_truth - Y_pred)**2).sum()\n",
        "  v = ((Y_truth - Y_truth.mean())**2).sum()\n",
        "  return 1 - u/v"
      ],
      "execution_count": null,
      "outputs": []
    },
    {
      "cell_type": "code",
      "metadata": {
        "colab": {
          "base_uri": "https://localhost:8080/"
        },
        "id": "4Uf7naGBMDyZ",
        "outputId": "90cc0aa0-fc4c-43c2-e783-69d46e6e52e0"
      },
      "source": [
        "import time\n",
        "start = time.time()\n",
        "m,error_list = gradient_descent(X_train,Y_train)\n",
        "end = time.time()\n",
        "print(f\"Time take is {end-start}\")"
      ],
      "execution_count": null,
      "outputs": [
        {
          "output_type": "stream",
          "text": [
            "0  Cost:  206577.15742637002\n",
            "1  Cost:  167326.7773594454\n",
            "2  Cost:  135537.9989972258\n",
            "3  Cost:  109791.27650239713\n",
            "4  Cost:  88937.56669027751\n",
            "5  Cost:  72046.59947119011\n",
            "6  Cost:  58365.11828721004\n",
            "7  Cost:  47283.13631238754\n",
            "8  Cost:  38306.650932731434\n",
            "9  Cost:  31035.56957546129\n",
            "10  Cost:  25145.84529018655\n",
            "11  Cost:  20375.015631451275\n",
            "12  Cost:  16510.49440631519\n",
            "13  Cost:  13380.09104030288\n",
            "14  Cost:  10844.333038581835\n",
            "15  Cost:  8790.248213718318\n",
            "16  Cost:  7126.328893283823\n",
            "17  Cost:  5778.453279425965\n",
            "18  Cost:  4686.581954040162\n",
            "19  Cost:  3802.082165148142\n",
            "20  Cost:  3085.560564887915\n",
            "21  Cost:  2505.1077630579043\n",
            "22  Cost:  2034.876433376553\n",
            "23  Cost:  1653.9295869154294\n",
            "24  Cost:  1345.307674821148\n",
            "25  Cost:  1095.2729392910333\n",
            "26  Cost:  892.6973337671892\n",
            "27  Cost:  728.566733300833\n",
            "28  Cost:  595.5793396428143\n",
            "29  Cost:  487.82038409840715\n",
            "30  Cost:  400.49863180803777\n",
            "31  Cost:  329.73294552875365\n",
            "32  Cost:  272.37939800858044\n",
            "33  Cost:  225.891229134064\n",
            "34  Cost:  188.2054077507682\n",
            "35  Cost:  157.6507436561906\n",
            "36  Cost:  132.87345559299882\n",
            "37  Cost:  112.77687893294974\n",
            "38  Cost:  96.47262680937496\n",
            "39  Cost:  83.24102881118007\n",
            "40  Cost:  72.49908474032326\n",
            "41  Cost:  63.77450578175423\n",
            "42  Cost:  56.68468666313345\n",
            "43  Cost:  50.919672078896326\n",
            "44  Cost:  46.22835861036355\n",
            "45  Cost:  42.407317521082085\n",
            "46  Cost:  39.291740568159376\n",
            "47  Cost:  36.7481055491646\n",
            "48  Cost:  34.668234914791604\n",
            "49  Cost:  32.964482833664704\n",
            "50  Cost:  31.565836362622626\n",
            "51  Cost:  30.414757093309703\n",
            "52  Cost:  29.464622628208666\n",
            "53  Cost:  28.677653955889188\n",
            "54  Cost:  28.02323643660355\n",
            "55  Cost:  27.476559639600964\n",
            "56  Cost:  27.017515473689766\n",
            "57  Cost:  26.62980555526916\n",
            "58  Cost:  26.300218075722864\n",
            "59  Cost:  26.01804197780378\n",
            "60  Cost:  25.77459236467066\n",
            "61  Cost:  25.56282601791576\n",
            "62  Cost:  25.37702991285873\n",
            "63  Cost:  25.212568869282997\n",
            "64  Cost:  25.06568110840448\n",
            "65  Cost:  24.933312619448696\n",
            "66  Cost:  24.81298296675169\n",
            "67  Cost:  24.702676567726755\n",
            "68  Cost:  24.600754605680876\n",
            "69  Cost:  24.50588365980275\n",
            "70  Cost:  24.416977878572904\n",
            "71  Cost:  24.333152125494312\n",
            "72  Cost:  24.253684014239393\n",
            "73  Cost:  24.177983145797462\n",
            "74  Cost:  24.105566180590387\n",
            "75  Cost:  24.036036638068868\n",
            "76  Cost:  23.969068526561497\n",
            "77  Cost:  23.904393076483156\n",
            "78  Cost:  23.841787988000654\n",
            "79  Cost:  23.781068716044018\n",
            "80  Cost:  23.72208140611717\n",
            "81  Cost:  23.664697167731592\n",
            "82  Cost:  23.608807431727715\n",
            "83  Cost:  23.554320185904444\n",
            "84  Cost:  23.50115692239154\n",
            "85  Cost:  23.44925016180734\n",
            "86  Cost:  23.39854144485285\n",
            "87  Cost:  23.348979702739843\n",
            "88  Cost:  23.300519934660848\n",
            "89  Cost:  23.253122134127207\n",
            "90  Cost:  23.206750417036357\n",
            "91  Cost:  23.161372313269535\n",
            "92  Cost:  23.11695819086528\n",
            "93  Cost:  23.073480787683213\n",
            "94  Cost:  23.030914830228657\n",
            "95  Cost:  22.98923672316199\n",
            "96  Cost:  22.94842429613937\n",
            "97  Cost:  22.908456597161457\n",
            "98  Cost:  22.869313723657516\n",
            "99  Cost:  22.83097668419346\n",
            "100  Cost:  22.793427285039137\n",
            "101  Cost:  22.756648036921234\n",
            "102  Cost:  22.72062207817265\n",
            "103  Cost:  22.685333111205775\n",
            "104  Cost:  22.650765349818307\n",
            "105  Cost:  22.616903475310686\n",
            "106  Cost:  22.58373259977633\n",
            "107  Cost:  22.55123823523501\n",
            "108  Cost:  22.519406267530428\n",
            "109  Cost:  22.488222934116703\n",
            "110  Cost:  22.457674805022975\n",
            "111  Cost:  22.42774876641931\n",
            "112  Cost:  22.39843200631529\n",
            "113  Cost:  22.369712002010633\n",
            "114  Cost:  22.341576508988677\n",
            "115  Cost:  22.314013551000926\n",
            "116  Cost:  22.287011411138366\n",
            "117  Cost:  22.260558623722957\n",
            "118  Cost:  22.234643966883624\n",
            "119  Cost:  22.209256455706285\n",
            "120  Cost:  22.184385335867784\n",
            "121  Cost:  22.160020077679995\n",
            "122  Cost:  22.13615037048401\n",
            "123  Cost:  22.11276611734497\n",
            "124  Cost:  22.089857430007317\n",
            "125  Cost:  22.067414624077017\n",
            "126  Cost:  22.045428214403547\n",
            "127  Cost:  22.02388891063907\n",
            "128  Cost:  22.00278761295606\n",
            "129  Cost:  21.98211540790778\n",
            "130  Cost:  21.961863564418895\n",
            "131  Cost:  21.942023529895064\n",
            "132  Cost:  21.922586926442712\n",
            "133  Cost:  21.90354554719104\n",
            "134  Cost:  21.884891352709815\n",
            "135  Cost:  21.86661646751732\n",
            "136  Cost:  21.848713176673623\n",
            "137  Cost:  21.83117392245493\n",
            "138  Cost:  21.813991301105432\n",
            "139  Cost:  21.797158059663257\n",
            "140  Cost:  21.780667092857847\n",
            "141  Cost:  21.764511440076003\n",
            "142  Cost:  21.74868428239441\n",
            "143  Cost:  21.73317893967632\n",
            "144  Cost:  21.717988867730753\n",
            "145  Cost:  21.70310765553211\n",
            "146  Cost:  21.68852902249872\n",
            "147  Cost:  21.67424681582868\n",
            "148  Cost:  21.660255007891585\n",
            "149  Cost:  21.646547693674634\n",
            "150  Cost:  21.633119088281898\n",
            "151  Cost:  21.619963524485527\n",
            "152  Cost:  21.607075450327535\n",
            "153  Cost:  21.594449426771124\n",
            "154  Cost:  21.58208012540043\n",
            "155  Cost:  21.56996232616757\n",
            "156  Cost:  21.55809091518599\n",
            "157  Cost:  21.546460882569047\n",
            "158  Cost:  21.53506732031298\n",
            "159  Cost:  21.52390542022312\n",
            "160  Cost:  21.512970471882646\n",
            "161  Cost:  21.502257860662766\n",
            "162  Cost:  21.491763065773704\n",
            "163  Cost:  21.481481658355285\n",
            "164  Cost:  21.4714092996067\n",
            "165  Cost:  21.461541738954335\n",
            "166  Cost:  21.451874812256936\n",
            "167  Cost:  21.442404440047476\n",
            "168  Cost:  21.433126625810797\n",
            "169  Cost:  21.424037454296318\n",
            "170  Cost:  21.415133089865215\n",
            "171  Cost:  21.406409774871186\n",
            "172  Cost:  21.39786382807422\n",
            "173  Cost:  21.389491643086732\n",
            "174  Cost:  21.381289686851183\n",
            "175  Cost:  21.373254498148874\n",
            "176  Cost:  21.365382686138936\n",
            "177  Cost:  21.357670928927174\n",
            "178  Cost:  21.35011597216397\n",
            "179  Cost:  21.342714627670727\n",
            "180  Cost:  21.33546377209428\n",
            "181  Cost:  21.328360345588685\n",
            "182  Cost:  21.321401350523782\n",
            "183  Cost:  21.314583850220114\n",
            "184  Cost:  21.307904967709508\n",
            "185  Cost:  21.301361884520876\n",
            "186  Cost:  21.29495183949078\n",
            "187  Cost:  21.288672127598083\n",
            "188  Cost:  21.282520098822435\n",
            "189  Cost:  21.276493157025815\n",
            "190  Cost:  21.270588758856988\n",
            "191  Cost:  21.264804412678128\n",
            "192  Cost:  21.259137677513287\n",
            "193  Cost:  21.253586162018316\n",
            "194  Cost:  21.24814752347166\n",
            "195  Cost:  21.24281946678569\n",
            "196  Cost:  21.23759974353819\n",
            "197  Cost:  21.232486151023465\n",
            "198  Cost:  21.227476531322807\n",
            "199  Cost:  21.222568770393828\n",
            "200  Cost:  21.217760797178332\n",
            "201  Cost:  21.213050582728297\n",
            "202  Cost:  21.208436139349697\n",
            "203  Cost:  21.20391551976361\n",
            "204  Cost:  21.19948681628457\n",
            "205  Cost:  21.195148160015396\n",
            "206  Cost:  21.190897720058626\n",
            "207  Cost:  21.186733702743794\n",
            "208  Cost:  21.182654350870553\n",
            "209  Cost:  21.178657942967106\n",
            "210  Cost:  21.174742792563737\n",
            "211  Cost:  21.170907247481193\n",
            "212  Cost:  21.16714968913335\n",
            "213  Cost:  21.16346853184428\n",
            "214  Cost:  21.15986222217901\n",
            "215  Cost:  21.156329238288055\n",
            "216  Cost:  21.152868089265112\n",
            "217  Cost:  21.14947731451802\n",
            "218  Cost:  21.146155483152235\n",
            "219  Cost:  21.142901193367155\n",
            "220  Cost:  21.13971307186444\n",
            "221  Cost:  21.136589773268568\n",
            "222  Cost:  21.133529979559043\n",
            "223  Cost:  21.13053239951419\n",
            "224  Cost:  21.12759576816632\n",
            "225  Cost:  21.12471884626782\n",
            "226  Cost:  21.121900419768316\n",
            "227  Cost:  21.119139299302226\n",
            "228  Cost:  21.116434319686945\n",
            "229  Cost:  21.113784339431078\n",
            "230  Cost:  21.111188240252773\n",
            "231  Cost:  21.108644926607802\n",
            "232  Cost:  21.106153325227236\n",
            "233  Cost:  21.10371238466452\n",
            "234  Cost:  21.101321074851793\n",
            "235  Cost:  21.098978386665188\n",
            "236  Cost:  21.096683331498994\n",
            "237  Cost:  21.094434940848434\n",
            "238  Cost:  21.092232265901\n",
            "239  Cost:  21.09007437713605\n",
            "240  Cost:  21.087960363932545\n",
            "241  Cost:  21.085889334184753\n",
            "242  Cost:  21.083860413925816\n",
            "243  Cost:  21.081872746958933\n",
            "244  Cost:  21.07992549449602\n",
            "245  Cost:  21.078017834803774\n",
            "246  Cost:  21.0761489628569\n",
            "247  Cost:  21.07431808999838\n",
            "248  Cost:  21.07252444360667\n",
            "249  Cost:  21.070767266769675\n",
            "250  Cost:  21.069045817965282\n",
            "251  Cost:  21.067359370748505\n",
            "252  Cost:  21.065707213444888\n",
            "253  Cost:  21.064088648850202\n",
            "254  Cost:  21.062502993936185\n",
            "255  Cost:  21.060949579562383\n",
            "256  Cost:  21.059427750193695\n",
            "257  Cost:  21.057936863623787\n",
            "258  Cost:  21.056476290704072\n",
            "259  Cost:  21.055045415078215\n",
            "260  Cost:  21.053643632922014\n",
            "261  Cost:  21.05227035268862\n",
            "262  Cost:  21.05092499485888\n",
            "263  Cost:  21.04960699169679\n",
            "264  Cost:  21.048315787009926\n",
            "265  Cost:  21.047050835914714\n",
            "266  Cost:  21.045811604606488\n",
            "267  Cost:  21.04459757013425\n",
            "268  Cost:  21.043408220179966\n",
            "269  Cost:  21.042243052842384\n",
            "270  Cost:  21.041101576425223\n",
            "271  Cost:  21.03998330922967\n",
            "272  Cost:  21.03888777935114\n",
            "273  Cost:  21.037814524480087\n",
            "274  Cost:  21.036763091706966\n",
            "275  Cost:  21.03573303733105\n",
            "276  Cost:  21.034723926673216\n",
            "277  Cost:  21.033735333892533\n",
            "278  Cost:  21.032766841806517\n",
            "279  Cost:  21.031818041715105\n",
            "280  Cost:  21.030888533228204\n",
            "281  Cost:  21.02997792409668\n",
            "282  Cost:  21.02908583004686\n",
            "283  Cost:  21.028211874618393\n",
            "284  Cost:  21.027355689005322\n",
            "285  Cost:  21.02651691190051\n",
            "286  Cost:  21.025695189343143\n",
            "287  Cost:  21.024890174569357\n",
            "288  Cost:  21.024101527865913\n",
            "289  Cost:  21.023328916426827\n",
            "290  Cost:  21.02257201421295\n",
            "291  Cost:  21.02183050181437\n",
            "292  Cost:  21.02110406631561\n",
            "293  Cost:  21.020392401163594\n",
            "294  Cost:  21.019695206038264\n",
            "295  Cost:  21.019012186725885\n",
            "296  Cost:  21.018343054994837\n",
            "297  Cost:  21.01768752847403\n",
            "298  Cost:  21.017045330533705\n",
            "299  Cost:  21.016416190168716\n",
            "Time take is 0.19834113121032715\n"
          ],
          "name": "stdout"
        }
      ]
    },
    {
      "cell_type": "code",
      "metadata": {
        "colab": {
          "base_uri": "https://localhost:8080/",
          "height": 265
        },
        "id": "CLK6CvZcMZoE",
        "outputId": "0f15861e-f5bb-440f-8629-404d95e0495a"
      },
      "source": [
        "plt.plot(error_list);"
      ],
      "execution_count": null,
      "outputs": [
        {
          "output_type": "display_data",
          "data": {
            "image/png": "[encoded data removed]",
            "text/plain": [
              "<Figure size 432x288 with 1 Axes>"
            ]
          },
          "metadata": {
            "tags": [],
            "needs_background": "light"
          }
        }
      ]
    },
    {
      "cell_type": "code",
      "metadata": {
        "colab": {
          "base_uri": "https://localhost:8080/"
        },
        "id": "qqJQYdP8MOKO",
        "outputId": "5804daf4-3b21-4f83-9c6e-88c99122d2a4"
      },
      "source": [
        "Y_pred = predict(X_test,m)\n",
        "score(Y_test,Y_pred)"
      ],
      "execution_count": null,
      "outputs": [
        {
          "output_type": "execute_result",
          "data": {
            "text/plain": [
              "0.9316324613781587"
            ]
          },
          "metadata": {
            "tags": []
          },
          "execution_count": 24
        }
      ]
    },
    {
      "cell_type": "markdown",
      "metadata": {
        "id": "lg2a9O3RScRr"
      },
      "source": [
        "## Inbuilt Linear Regression"
      ]
    },
    {
      "cell_type": "code",
      "metadata": {
        "colab": {
          "base_uri": "https://localhost:8080/"
        },
        "id": "403CHbyvSfhZ",
        "outputId": "cdbd07b2-ed5f-444e-f47a-df632f720079"
      },
      "source": [
        "X"
      ],
      "execution_count": 29,
      "outputs": [
        {
          "output_type": "execute_result",
          "data": {
            "text/plain": [
              "array([[   8.34,   40.77, 1010.84,   90.01],\n",
              "       [  23.64,   58.49, 1011.4 ,   74.2 ],\n",
              "       [  29.74,   56.9 , 1007.15,   41.91],\n",
              "       ...,\n",
              "       [  15.99,   43.34, 1014.2 ,   78.66],\n",
              "       [  17.65,   59.87, 1018.58,   94.65],\n",
              "       [  23.68,   51.3 , 1011.86,   71.24]])"
            ]
          },
          "metadata": {
            "tags": []
          },
          "execution_count": 29
        }
      ]
    },
    {
      "cell_type": "code",
      "metadata": {
        "colab": {
          "base_uri": "https://localhost:8080/"
        },
        "id": "cQpOFbdSSp_o",
        "outputId": "6e622a87-9d2e-409d-c928-18191a88ee97"
      },
      "source": [
        "from sklearn.linear_model import LinearRegression\n",
        "alg1 = LinearRegression()\n",
        "alg1.fit(X_train,Y_train)"
      ],
      "execution_count": 30,
      "outputs": [
        {
          "output_type": "execute_result",
          "data": {
            "text/plain": [
              "LinearRegression(copy_X=True, fit_intercept=True, n_jobs=None, normalize=False)"
            ]
          },
          "metadata": {
            "tags": []
          },
          "execution_count": 30
        }
      ]
    },
    {
      "cell_type": "code",
      "metadata": {
        "colab": {
          "base_uri": "https://localhost:8080/"
        },
        "id": "CGsOpvr1SwAV",
        "outputId": "6290d557-b612-4377-b37f-a474743e41ab"
      },
      "source": [
        "score_test = alg1.score(X_test,Y_test)\n",
        "score_test"
      ],
      "execution_count": 31,
      "outputs": [
        {
          "output_type": "execute_result",
          "data": {
            "text/plain": [
              "0.9289998274091932"
            ]
          },
          "metadata": {
            "tags": []
          },
          "execution_count": 31
        }
      ]
    }
  ]
}