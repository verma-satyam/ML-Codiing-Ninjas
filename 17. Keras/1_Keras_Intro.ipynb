{
  "nbformat": 4,
  "nbformat_minor": 0,
  "metadata": {
    "colab": {
      "name": "1. Keras Intro.ipynb",
      "provenance": [],
      "authorship_tag": "ABX9TyMD6W7oSt8n6qlp7yk2/9Kk",
      "include_colab_link": true
    },
    "kernelspec": {
      "name": "python3",
      "display_name": "Python 3"
    },
    "language_info": {
      "name": "python"
    }
  },
  "cells": [
    {
      "cell_type": "markdown",
      "metadata": {
        "id": "view-in-github",
        "colab_type": "text"
      },
      "source": [
        "<a href=\"https://colab.research.google.com/github/verma-satyam/ML-Coding-Ninjas/blob/main/17.%20Keras/1_Keras_Intro.ipynb\" target=\"_parent\"><img src=\"https://colab.research.google.com/assets/colab-badge.svg\" alt=\"Open In Colab\"/></a>"
      ]
    },
    {
      "cell_type": "markdown",
      "metadata": {
        "id": "-EpK7YyUjp2T"
      },
      "source": [
        "### Model"
      ]
    },
    {
      "cell_type": "code",
      "metadata": {
        "id": "lRtylaeYjhM1"
      },
      "source": [
        "from keras.models import Sequential"
      ],
      "execution_count": 11,
      "outputs": []
    },
    {
      "cell_type": "code",
      "metadata": {
        "id": "QAMODp-Wj0UL"
      },
      "source": [
        "# Creating model\n",
        "model = Sequential()"
      ],
      "execution_count": 12,
      "outputs": []
    },
    {
      "cell_type": "markdown",
      "metadata": {
        "id": "6eEyOKiml_uz"
      },
      "source": [
        "### Layers"
      ]
    },
    {
      "cell_type": "code",
      "metadata": {
        "id": "qGzv_boPj3jt"
      },
      "source": [
        "from keras.layers import Dense"
      ],
      "execution_count": 13,
      "outputs": []
    },
    {
      "cell_type": "code",
      "metadata": {
        "id": "_J02ZMq9m-qo"
      },
      "source": [
        "# layer1 = Dense(units=32,activation='relu',input_dim=30)\n",
        "# model.add(layer1)"
      ],
      "execution_count": 14,
      "outputs": []
    },
    {
      "cell_type": "code",
      "metadata": {
        "id": "-aWDfM7inre4"
      },
      "source": [
        "model.add(Dense(units=32,activation='relu',input_dim=30))\n",
        "model.add(Dense(units=16,activation='relu'))\n",
        "model.add(Dense(units=1,activation='sigmoid'))"
      ],
      "execution_count": 15,
      "outputs": []
    },
    {
      "cell_type": "markdown",
      "metadata": {
        "id": "YHEieZbOoEhS"
      },
      "source": [
        "### Compiling"
      ]
    },
    {
      "cell_type": "code",
      "metadata": {
        "id": "8LfJRy9vn0sf"
      },
      "source": [
        "model.compile(optimizer='adam',loss='binary_crossentropy',metrics=['accuracy'])"
      ],
      "execution_count": 16,
      "outputs": []
    },
    {
      "cell_type": "markdown",
      "metadata": {
        "id": "XE4p0wkepUE8"
      },
      "source": [
        "### Fit"
      ]
    },
    {
      "cell_type": "markdown",
      "metadata": {
        "id": "gssKd97DqrR3"
      },
      "source": [
        "##### Importing Dataset"
      ]
    },
    {
      "cell_type": "code",
      "metadata": {
        "id": "Nyb0htqmpEzh"
      },
      "source": [
        "from sklearn import datasets\n",
        "cancer  = datasets.load_breast_cancer()\n",
        "from sklearn.model_selection import train_test_split\n",
        "\n",
        "x_train,x_test,y_train,y_test = train_test_split(cancer.data,cancer.target,random_state = 0,test_size = 0.2)"
      ],
      "execution_count": 17,
      "outputs": []
    },
    {
      "cell_type": "markdown",
      "metadata": {
        "id": "bkhjkgX_rR0Y"
      },
      "source": [
        "##### Scaling"
      ]
    },
    {
      "cell_type": "code",
      "metadata": {
        "id": "Obft-zE6rCi7"
      },
      "source": [
        "from sklearn.preprocessing import StandardScaler\n",
        "sc = StandardScaler()\n",
        "x_train = sc.fit_transform(x_train)\n",
        "x_test = sc.transform(x_test)"
      ],
      "execution_count": 18,
      "outputs": []
    },
    {
      "cell_type": "markdown",
      "metadata": {
        "id": "3AoKqSeSrk92"
      },
      "source": [
        "##### Fit"
      ]
    },
    {
      "cell_type": "code",
      "metadata": {
        "colab": {
          "base_uri": "https://localhost:8080/"
        },
        "id": "hUWHPsIJrj1y",
        "outputId": "b51332ad-ffcb-4f8c-db0c-aae53e5ec98d"
      },
      "source": [
        "model.fit(x_train,y_train,epochs=20,batch_size=50,validation_data=(x_test,y_test))"
      ],
      "execution_count": 19,
      "outputs": [
        {
          "output_type": "stream",
          "text": [
            "Epoch 1/20\n",
            "10/10 [==============================] - 1s 62ms/step - loss: 0.7041 - accuracy: 0.5611 - val_loss: 0.4699 - val_accuracy: 0.8509\n",
            "Epoch 2/20\n",
            "10/10 [==============================] - 0s 7ms/step - loss: 0.4517 - accuracy: 0.8450 - val_loss: 0.3450 - val_accuracy: 0.8947\n",
            "Epoch 3/20\n",
            "10/10 [==============================] - 0s 4ms/step - loss: 0.3225 - accuracy: 0.9026 - val_loss: 0.2722 - val_accuracy: 0.9123\n",
            "Epoch 4/20\n",
            "10/10 [==============================] - 0s 7ms/step - loss: 0.2578 - accuracy: 0.9327 - val_loss: 0.2286 - val_accuracy: 0.9123\n",
            "Epoch 5/20\n",
            "10/10 [==============================] - 0s 6ms/step - loss: 0.1957 - accuracy: 0.9528 - val_loss: 0.2019 - val_accuracy: 0.9211\n",
            "Epoch 6/20\n",
            "10/10 [==============================] - 0s 4ms/step - loss: 0.1912 - accuracy: 0.9583 - val_loss: 0.1825 - val_accuracy: 0.9211\n",
            "Epoch 7/20\n",
            "10/10 [==============================] - 0s 6ms/step - loss: 0.1630 - accuracy: 0.9569 - val_loss: 0.1692 - val_accuracy: 0.9211\n",
            "Epoch 8/20\n",
            "10/10 [==============================] - 0s 5ms/step - loss: 0.1344 - accuracy: 0.9688 - val_loss: 0.1598 - val_accuracy: 0.9211\n",
            "Epoch 9/20\n",
            "10/10 [==============================] - 0s 5ms/step - loss: 0.1285 - accuracy: 0.9710 - val_loss: 0.1513 - val_accuracy: 0.9211\n",
            "Epoch 10/20\n",
            "10/10 [==============================] - 0s 5ms/step - loss: 0.1238 - accuracy: 0.9727 - val_loss: 0.1430 - val_accuracy: 0.9386\n",
            "Epoch 11/20\n",
            "10/10 [==============================] - 0s 7ms/step - loss: 0.1094 - accuracy: 0.9737 - val_loss: 0.1368 - val_accuracy: 0.9386\n",
            "Epoch 12/20\n",
            "10/10 [==============================] - 0s 4ms/step - loss: 0.1143 - accuracy: 0.9672 - val_loss: 0.1313 - val_accuracy: 0.9386\n",
            "Epoch 13/20\n",
            "10/10 [==============================] - 0s 7ms/step - loss: 0.1053 - accuracy: 0.9749 - val_loss: 0.1266 - val_accuracy: 0.9386\n",
            "Epoch 14/20\n",
            "10/10 [==============================] - 0s 5ms/step - loss: 0.0981 - accuracy: 0.9774 - val_loss: 0.1228 - val_accuracy: 0.9386\n",
            "Epoch 15/20\n",
            "10/10 [==============================] - 0s 5ms/step - loss: 0.0938 - accuracy: 0.9842 - val_loss: 0.1183 - val_accuracy: 0.9561\n",
            "Epoch 16/20\n",
            "10/10 [==============================] - 0s 6ms/step - loss: 0.0734 - accuracy: 0.9869 - val_loss: 0.1150 - val_accuracy: 0.9649\n",
            "Epoch 17/20\n",
            "10/10 [==============================] - 0s 5ms/step - loss: 0.0770 - accuracy: 0.9788 - val_loss: 0.1120 - val_accuracy: 0.9649\n",
            "Epoch 18/20\n",
            "10/10 [==============================] - 0s 4ms/step - loss: 0.0647 - accuracy: 0.9873 - val_loss: 0.1090 - val_accuracy: 0.9649\n",
            "Epoch 19/20\n",
            "10/10 [==============================] - 0s 5ms/step - loss: 0.0841 - accuracy: 0.9702 - val_loss: 0.1047 - val_accuracy: 0.9649\n",
            "Epoch 20/20\n",
            "10/10 [==============================] - 0s 4ms/step - loss: 0.0694 - accuracy: 0.9767 - val_loss: 0.1016 - val_accuracy: 0.9649\n"
          ],
          "name": "stdout"
        },
        {
          "output_type": "execute_result",
          "data": {
            "text/plain": [
              "<keras.callbacks.History at 0x7f803c939d10>"
            ]
          },
          "metadata": {
            "tags": []
          },
          "execution_count": 19
        }
      ]
    },
    {
      "cell_type": "markdown",
      "metadata": {
        "id": "RQSkS8ITtTR_"
      },
      "source": [
        "### Score/Predict"
      ]
    },
    {
      "cell_type": "code",
      "metadata": {
        "colab": {
          "base_uri": "https://localhost:8080/"
        },
        "id": "fWLCC21btV4L",
        "outputId": "12e2714b-9f61-4e7b-9959-69340fef72f5"
      },
      "source": [
        "pred = model.predict(x_test)\n",
        "score = model.evaluate(x_test,y_test)\n",
        "score"
      ],
      "execution_count": 20,
      "outputs": [
        {
          "output_type": "stream",
          "text": [
            "4/4 [==============================] - 0s 3ms/step - loss: 0.1016 - accuracy: 0.9649\n"
          ],
          "name": "stdout"
        },
        {
          "output_type": "execute_result",
          "data": {
            "text/plain": [
              "[0.1016373485326767, 0.9649122953414917]"
            ]
          },
          "metadata": {
            "tags": []
          },
          "execution_count": 20
        }
      ]
    },
    {
      "cell_type": "code",
      "metadata": {
        "id": "ecL_Yk_rthWa"
      },
      "source": [
        ""
      ],
      "execution_count": null,
      "outputs": []
    }
  ]
}