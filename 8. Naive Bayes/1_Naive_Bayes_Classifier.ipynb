{
  "nbformat": 4,
  "nbformat_minor": 0,
  "metadata": {
    "colab": {
      "name": "1. Naive Bayes Classifier.ipynb",
      "provenance": [],
      "authorship_tag": "ABX9TyPRsggXUcsM7nhyziQ513Pm",
      "include_colab_link": true
    },
    "kernelspec": {
      "name": "python3",
      "display_name": "Python 3"
    },
    "language_info": {
      "name": "python"
    }
  },
  "cells": [
    {
      "cell_type": "markdown",
      "metadata": {
        "id": "view-in-github",
        "colab_type": "text"
      },
      "source": [
        "<a href=\"https://colab.research.google.com/github/verma-satyam/ML-Coding-Ninjas/blob/main/8.%20Naive%20Bayes/1_Naive_Bayes_Classifier.ipynb\" target=\"_parent\"><img src=\"https://colab.research.google.com/assets/colab-badge.svg\" alt=\"Open In Colab\"/></a>"
      ]
    },
    {
      "cell_type": "markdown",
      "metadata": {
        "id": "teHR-FYYaje3"
      },
      "source": [
        "## Naive Bayes"
      ]
    },
    {
      "cell_type": "code",
      "metadata": {
        "id": "Axp8oNDZJ46E"
      },
      "source": [
        "import numpy as np"
      ],
      "execution_count": 39,
      "outputs": []
    },
    {
      "cell_type": "code",
      "metadata": {
        "id": "DY1xQzj1J8v_"
      },
      "source": [
        "def fit(X_train,Y_train):\n",
        "  result = {}\n",
        "  class_values = set(Y_train)\n",
        "  for current_class in class_values:\n",
        "    result[current_class] = {}\n",
        "    result['total_data'] = len(Y_train)\n",
        "\n",
        "    X_train_current = X_train[Y_train == current_class]\n",
        "    Y_train_current = Y_train[Y_train == current_class]\n",
        "\n",
        "    num_features = X_train.shape[1]\n",
        "    result[current_class]['total_count'] = len(Y_train_current)\n",
        "\n",
        "    for j in range(num_features):\n",
        "      result[current_class][j] = {}\n",
        "      all_possible_values = set(X_train[:,j])\n",
        "\n",
        "      for current_value in all_possible_values:\n",
        "        result[current_class][j][current_value] = (X_train_current[:,j] == current_value).sum()\n",
        "\n",
        "  return result"
      ],
      "execution_count": 40,
      "outputs": []
    },
    {
      "cell_type": "code",
      "metadata": {
        "id": "0D9QYxb0VzcH"
      },
      "source": [
        "def prob(result,x,current_class):\n",
        "  output = np.log(result[current_class]['total_count'])-np.log(result['total_data'])\n",
        "  num_features = len(result[current_class].keys()) - 1\n",
        "  for j in range(num_features):\n",
        "    xj = x[j]\n",
        "    output+=np.log(result[current_class][j][xj] +1)-np.log(result[current_class]['total_count'] + len(result[current_class][j].keys()))\n",
        "  return output"
      ],
      "execution_count": 41,
      "outputs": []
    },
    {
      "cell_type": "code",
      "metadata": {
        "id": "O61AOoXiU02v"
      },
      "source": [
        "def predictRow(result, x):\n",
        "  all_classes = result.keys()\n",
        "  first_run = True\n",
        "  for current_class in all_classes:\n",
        "    if current_class == 'total_data':\n",
        "      continue\n",
        "    \n",
        "    p_current_class = prob(result,x,current_class)\n",
        "    if(first_run or p_current_class > best_p):\n",
        "      best_p = p_current_class\n",
        "      best_class = current_class\n",
        "    first_run = False\n",
        "  return best_class,best_p"
      ],
      "execution_count": 42,
      "outputs": []
    },
    {
      "cell_type": "code",
      "metadata": {
        "id": "Y5EOyyrOOg6R"
      },
      "source": [
        "def predict(result,X_test):\n",
        "  Y_pred = []\n",
        "  for x in X_test: # for every row in dataset\n",
        "    pred_class_x,pred_value = predictRow(result,x)\n",
        "    Y_pred.append(pred_class_x)\n",
        "  return Y_pred"
      ],
      "execution_count": 43,
      "outputs": []
    },
    {
      "cell_type": "markdown",
      "metadata": {
        "id": "c5v_yPN_am2V"
      },
      "source": [
        "## Preprocessing Iris into categorical feature"
      ]
    },
    {
      "cell_type": "code",
      "metadata": {
        "id": "Rhm4OMDVXYpT"
      },
      "source": [
        "def makeLabel(column):\n",
        "  secondLimit = column.mean()\n",
        "  firstLimit = 0.5*secondLimit\n",
        "  thirdLimit = 1.5*secondLimit\n",
        "  for i in range(len(column)):\n",
        "    if(column[i]<firstLimit):\n",
        "      column[i] = 0\n",
        "    elif(column[i]<secondLimit):\n",
        "      column[i] = 1\n",
        "    elif(column[i]<thirdLimit):\n",
        "      column[i] = 2\n",
        "    else:\n",
        "      column[i] = 3\n",
        "  return column"
      ],
      "execution_count": 44,
      "outputs": []
    },
    {
      "cell_type": "code",
      "metadata": {
        "id": "m3PjTUVvbBbp"
      },
      "source": [
        "from sklearn import datasets\n",
        "iris = datasets.load_iris()\n",
        "X = iris.data\n",
        "Y = iris.target"
      ],
      "execution_count": 45,
      "outputs": []
    },
    {
      "cell_type": "code",
      "metadata": {
        "id": "MW7JHjr_blft"
      },
      "source": [
        "for i in range(X.shape[-1]):\n",
        "  X[:,i] = makeLabel(X[:,i])"
      ],
      "execution_count": 46,
      "outputs": []
    },
    {
      "cell_type": "markdown",
      "metadata": {
        "id": "Uu5Mo0scbxxd"
      },
      "source": [
        "## Model Trainig and Predictions"
      ]
    },
    {
      "cell_type": "code",
      "metadata": {
        "id": "o2DysPvJb2eu"
      },
      "source": [
        "from sklearn import model_selection\n",
        "X_train,X_test,Y_train,Y_test = model_selection.train_test_split(X,Y,test_size = 0.25, random_state=0)"
      ],
      "execution_count": 47,
      "outputs": []
    },
    {
      "cell_type": "code",
      "metadata": {
        "id": "LMjJ6bipcHkh"
      },
      "source": [
        "result = fit(X_train,Y_train)\n",
        "Y_pred = predict(result,X_test)"
      ],
      "execution_count": 48,
      "outputs": []
    },
    {
      "cell_type": "code",
      "metadata": {
        "colab": {
          "base_uri": "https://localhost:8080/"
        },
        "id": "gWz75WPBcRY1",
        "outputId": "76b60d29-15a5-4e44-eb7c-2f2d314e9770"
      },
      "source": [
        "from sklearn.metrics import classification_report,confusion_matrix\n",
        "print(classification_report(Y_test,Y_pred))\n",
        "print(confusion_matrix(Y_test,Y_pred))"
      ],
      "execution_count": 49,
      "outputs": [
        {
          "output_type": "stream",
          "text": [
            "              precision    recall  f1-score   support\n",
            "\n",
            "           0       1.00      1.00      1.00        13\n",
            "           1       0.94      1.00      0.97        16\n",
            "           2       1.00      0.89      0.94         9\n",
            "\n",
            "    accuracy                           0.97        38\n",
            "   macro avg       0.98      0.96      0.97        38\n",
            "weighted avg       0.98      0.97      0.97        38\n",
            "\n",
            "[[13  0  0]\n",
            " [ 0 16  0]\n",
            " [ 0  1  8]]\n"
          ],
          "name": "stdout"
        }
      ]
    }
  ]
}