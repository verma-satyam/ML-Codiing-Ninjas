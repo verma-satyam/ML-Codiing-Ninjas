{
  "nbformat": 4,
  "nbformat_minor": 0,
  "metadata": {
    "colab": {
      "name": "3. MultinomialNB Classifier.ipynb",
      "provenance": [],
      "toc_visible": true,
      "authorship_tag": "ABX9TyPh+ReDUE64rdcuCRBndQhL",
      "include_colab_link": true
    },
    "kernelspec": {
      "name": "python3",
      "display_name": "Python 3"
    },
    "language_info": {
      "name": "python"
    }
  },
  "cells": [
    {
      "cell_type": "markdown",
      "metadata": {
        "id": "view-in-github",
        "colab_type": "text"
      },
      "source": [
        "<a href=\"https://colab.research.google.com/github/verma-satyam/ML-Coding-Ninjas/blob/main/8.%20Naive%20Bayes/3_MultinomialNB_Classifier.ipynb\" target=\"_parent\"><img src=\"https://colab.research.google.com/assets/colab-badge.svg\" alt=\"Open In Colab\"/></a>"
      ]
    },
    {
      "cell_type": "markdown",
      "metadata": {
        "id": "c5v_yPN_am2V"
      },
      "source": [
        "## Dataset"
      ]
    },
    {
      "cell_type": "code",
      "metadata": {
        "id": "m3PjTUVvbBbp"
      },
      "source": [
        "from sklearn import datasets\n",
        "iris = datasets.load_iris()\n",
        "X = iris.data\n",
        "Y = iris.target"
      ],
      "execution_count": 1,
      "outputs": []
    },
    {
      "cell_type": "markdown",
      "metadata": {
        "id": "Uu5Mo0scbxxd"
      },
      "source": [
        "## Model Trainig and Predictions"
      ]
    },
    {
      "cell_type": "code",
      "metadata": {
        "id": "i4VpYFJ9rkVt"
      },
      "source": [
        "import numpy as np"
      ],
      "execution_count": 2,
      "outputs": []
    },
    {
      "cell_type": "markdown",
      "metadata": {
        "id": "TMxE3UVBr2Eq"
      },
      "source": [
        "Naive Bayes Classifier on continuous data - using Gaussian Curve"
      ]
    },
    {
      "cell_type": "code",
      "metadata": {
        "id": "o2DysPvJb2eu"
      },
      "source": [
        "from sklearn import model_selection\n",
        "X_train,X_test,Y_train,Y_test = model_selection.train_test_split(X,Y,test_size = 0.25, random_state=0)"
      ],
      "execution_count": 3,
      "outputs": []
    },
    {
      "cell_type": "code",
      "metadata": {
        "id": "LMjJ6bipcHkh"
      },
      "source": [
        "from sklearn.naive_bayes import MultinomialNB\n",
        "clf = MultinomialNB()\n",
        "result = clf.fit(X_train,Y_train)\n",
        "Y_pred = clf.predict(X_test)"
      ],
      "execution_count": 4,
      "outputs": []
    },
    {
      "cell_type": "code",
      "metadata": {
        "colab": {
          "base_uri": "https://localhost:8080/"
        },
        "id": "gWz75WPBcRY1",
        "outputId": "98346e20-f427-42a5-86ba-e8487960a582"
      },
      "source": [
        "from sklearn.metrics import classification_report,confusion_matrix\n",
        "print(classification_report(Y_test,Y_pred))\n",
        "print(confusion_matrix(Y_test,Y_pred))"
      ],
      "execution_count": 5,
      "outputs": [
        {
          "output_type": "stream",
          "text": [
            "              precision    recall  f1-score   support\n",
            "\n",
            "           0       1.00      1.00      1.00        13\n",
            "           1       0.00      0.00      0.00        16\n",
            "           2       0.36      1.00      0.53         9\n",
            "\n",
            "    accuracy                           0.58        38\n",
            "   macro avg       0.45      0.67      0.51        38\n",
            "weighted avg       0.43      0.58      0.47        38\n",
            "\n",
            "[[13  0  0]\n",
            " [ 0  0 16]\n",
            " [ 0  0  9]]\n"
          ],
          "name": "stdout"
        },
        {
          "output_type": "stream",
          "text": [
            "/usr/local/lib/python3.7/dist-packages/sklearn/metrics/_classification.py:1272: UndefinedMetricWarning: Precision and F-score are ill-defined and being set to 0.0 in labels with no predicted samples. Use `zero_division` parameter to control this behavior.\n",
            "  _warn_prf(average, modifier, msg_start, len(result))\n"
          ],
          "name": "stderr"
        }
      ]
    },
    {
      "cell_type": "markdown",
      "metadata": {
        "id": "LTPTUl4ZwiLV"
      },
      "source": [
        "**very bad bcz multinomial NB is used for text classification ,i.e, where dataset is of vocabulary type and is not workable on dataset like iris.**"
      ]
    }
  ]
}